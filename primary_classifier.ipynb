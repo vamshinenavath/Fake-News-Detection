{
 "cells": [
  {
   "cell_type": "code",
   "execution_count": 34,
   "id": "3871cc1b",
   "metadata": {},
   "outputs": [],
   "source": [
    "import numpy as np\n",
    "import pandas as pd"
   ]
  },
  {
   "cell_type": "code",
   "execution_count": 35,
   "id": "6e95538a",
   "metadata": {},
   "outputs": [],
   "source": [
    "dataset_dir = \"datasets\"\n",
    "\n",
    "train_file = 'news_traindata'\n",
    "train_nrows = 110000 * 0.9\n",
    "train_df = pd.read_csv(f'{dataset_dir}/{train_file}.csv', encoding='utf-8', nrows=train_nrows)\n",
    "train_df = train_df.dropna()\n",
    "\n",
    "test_file = 'news_testdata'\n",
    "test_nrows = 110000 * 0.1\n",
    "test_df = pd.read_csv(f'{dataset_dir}/{test_file}.csv', encoding='utf-8', nrows=test_nrows)\n",
    "test_df = test_df.dropna()\n",
    "\n",
    "vocab_file = f'vocabs/vokab_{train_file}_{train_nrows}.pkl'\n",
    "model_file = f\"models/primary_model_{train_file}_{train_nrows}.pth\"\n",
    "encoded_testfile = f\"encoded/primary_{test_file}_{test_nrows}.pt\"\n",
    "encoded_trainfile = f\"encoded/primary_{train_file}_{train_nrows}.pt\"\n"
   ]
  },
  {
   "cell_type": "markdown",
   "id": "e4dc2133",
   "metadata": {},
   "source": [
    "## Preprocessing\n",
    "\n",
    "##### Generating/loading Vocabulary"
   ]
  },
  {
   "cell_type": "code",
   "execution_count": 36,
   "id": "57bf834d",
   "metadata": {},
   "outputs": [],
   "source": [
    "train_df['content'] = train_df['title'].fillna('') + ' ' + train_df['content'].fillna('')\n",
    "test_df['content'] = test_df['title'].fillna('') + ' ' + test_df['content'].fillna('')"
   ]
  },
  {
   "cell_type": "code",
   "execution_count": 37,
   "id": "e80485e7",
   "metadata": {},
   "outputs": [
    {
     "name": "stdout",
     "output_type": "stream",
     "text": [
      "Vocabulary loaded from vocabs/vokab_news_traindata_99000.0.pkl.\n"
     ]
    }
   ],
   "source": [
    "import os\n",
    "import pickle\n",
    "from torchtext.vocab import build_vocab_from_iterator\n",
    "from torchtext.data.utils import get_tokenizer\n",
    "from collections import Counter\n",
    "\n",
    "MAX_VOCAB = 50000\n",
    "special_tokens = ['<unk>', '<pad>']\n",
    "tokenizer = get_tokenizer('basic_english')\n",
    "\n",
    "def generate_vocabulary(df):\n",
    "    counter = Counter()\n",
    "    for text in df['content']:\n",
    "        if pd.notna(text):\n",
    "            counter.update(tokenizer(str(text)))\n",
    "    \n",
    "    most_common = [token for token, _ in counter.most_common(MAX_VOCAB - len(special_tokens))]\n",
    "    \n",
    "    vocab = build_vocab_from_iterator([most_common], specials=special_tokens)\n",
    "    vocab.set_default_index(vocab['<unk>'])\n",
    "\n",
    "    with open(vocab_file, 'wb') as f:\n",
    "        pickle.dump(vocab, f)\n",
    "    print(f\"Vocabulary saved to '{vocab_file}'.\")\n",
    "\n",
    "    return vocab\n",
    "\n",
    "\n",
    "if os.path.exists(vocab_file):\n",
    "    with open(vocab_file, 'rb') as f:\n",
    "        vocab = pickle.load(f)\n",
    "    print(f\"Vocabulary loaded from {vocab_file}.\")\n",
    "\n",
    "else:\n",
    "    vocab = generate_vocabulary(train_df)"
   ]
  },
  {
   "cell_type": "markdown",
   "id": "289d5963",
   "metadata": {},
   "source": [
    "##### Encoding the Content and label with vocabulary"
   ]
  },
  {
   "cell_type": "code",
   "execution_count": 38,
   "id": "30c9ac75",
   "metadata": {},
   "outputs": [],
   "source": [
    "import torch\n",
    "from torch.nn.utils.rnn import pad_sequence\n",
    "\n",
    "MAX_LENGTH = 4096\n",
    "\n",
    "def encode_text_primary_model(vocab, df, encoded_file):\n",
    "    if os.path.exists(encoded_file):\n",
    "        data = torch.load(encoded_file)\n",
    "        encoded_texts = data['inputs']\n",
    "        labels = data['labels']\n",
    "        return encoded_texts, labels\n",
    "    \n",
    "    encoded_texts = []\n",
    "    labels = []\n",
    "\n",
    "    for text, label in zip(df['content'], df['label']):\n",
    "        if pd.notna(text):\n",
    "            encoded = [vocab[token] for token in tokenizer(text)]\n",
    "            \n",
    "            if len(encoded) <= MAX_LENGTH:  # Filter long sequences\n",
    "                encoded_texts.append(torch.tensor(encoded, dtype=torch.long))\n",
    "                labels.append(label)\n",
    "\n",
    "    encoded_texts = pad_sequence(encoded_texts, batch_first=True, padding_value=vocab['<pad>'])\n",
    "    labels = torch.tensor(labels, dtype=torch.float)\n",
    "    torch.save({'inputs': encoded_texts, 'labels': labels}, encoded_file)\n",
    "\n",
    "\n",
    "    return encoded_texts, labels\n",
    "\n",
    "train_encoded_texts, train_labels = encode_text_primary_model(vocab, train_df, encoded_trainfile)\n",
    "test_encoded_texts, test_labels = encode_text_primary_model(vocab, test_df, encoded_testfile)"
   ]
  },
  {
   "cell_type": "markdown",
   "id": "344f20e2",
   "metadata": {},
   "source": [
    "##### Creating DataLoader from test-train split"
   ]
  },
  {
   "cell_type": "code",
   "execution_count": 39,
   "id": "735fae1e",
   "metadata": {},
   "outputs": [],
   "source": [
    "from torch.utils.data import Dataset, DataLoader\n",
    "from sklearn.model_selection import train_test_split\n",
    "\n",
    "\n",
    "class NewsDataset(Dataset):\n",
    "    def __init__(self, X, y):\n",
    "        self.X = X\n",
    "        self.y = y\n",
    "\n",
    "    def __len__(self):\n",
    "        return len(self.X)\n",
    "\n",
    "    def __getitem__(self, idx):\n",
    "        return self.X[idx], self.y[idx]\n",
    "\n",
    "\n",
    "train_ds = NewsDataset(train_encoded_texts, train_labels)\n",
    "val_ds = NewsDataset(test_encoded_texts[:500], test_labels[:500])\n",
    "\n",
    "train_dl = DataLoader(train_ds, batch_size=32, shuffle=True, pin_memory=True, num_workers=0)\n",
    "val_dl = DataLoader(val_ds, batch_size=32, num_workers=0)"
   ]
  },
  {
   "cell_type": "markdown",
   "id": "10e6490f",
   "metadata": {},
   "source": [
    "## Training The Model\n",
    "\n",
    "##### Loading the Model"
   ]
  },
  {
   "cell_type": "code",
   "execution_count": 40,
   "id": "ee313013",
   "metadata": {},
   "outputs": [
    {
     "name": "stdout",
     "output_type": "stream",
     "text": [
      "Using device: mps\n"
     ]
    }
   ],
   "source": [
    "from mulstage_model import CNN_BiLSTM\n",
    "from torch import nn\n",
    "\n",
    "\n",
    "# device = torch.device('cuda' if torch.cuda.is_available() else 'cpu')\n",
    "device = torch.device('mps' if torch.backends.mps.is_available() else 'cpu')\n",
    "# device = torch.device('cpu')\n",
    "\n",
    "print(f\"Using device: {device}\")\n",
    "\n",
    "model = CNN_BiLSTM(vocab=vocab, vocab_size=len(vocab), embed_dim=100, hidden_dim=128, output_dim=1, pad_idx=vocab['<pad>'])\n",
    "model.to(device)\n",
    "\n",
    "\n",
    "criterion = nn.BCELoss()\n",
    "optimizer = torch.optim.Adam(model.parameters(), lr=1e-3)   \n"
   ]
  },
  {
   "cell_type": "markdown",
   "id": "ff18181a",
   "metadata": {},
   "source": [
    "##### train and validate"
   ]
  },
  {
   "cell_type": "code",
   "execution_count": 41,
   "id": "e0308d22",
   "metadata": {},
   "outputs": [
    {
     "name": "stdout",
     "output_type": "stream",
     "text": [
      "training\n"
     ]
    },
    {
     "name": "stderr",
     "output_type": "stream",
     "text": [
      "                                                             \r"
     ]
    },
    {
     "name": "stdout",
     "output_type": "stream",
     "text": [
      "Epoch 1, Loss: 0.0903, Val Acc: 0.9707\n"
     ]
    },
    {
     "name": "stderr",
     "output_type": "stream",
     "text": [
      "                                                             \r"
     ]
    },
    {
     "name": "stdout",
     "output_type": "stream",
     "text": [
      "Epoch 2, Loss: 0.0532, Val Acc: 0.9805\n"
     ]
    },
    {
     "name": "stderr",
     "output_type": "stream",
     "text": [
      "                                                             \r"
     ]
    },
    {
     "name": "stdout",
     "output_type": "stream",
     "text": [
      "Epoch 3, Loss: 0.0408, Val Acc: 0.9824\n"
     ]
    },
    {
     "name": "stderr",
     "output_type": "stream",
     "text": [
      "                                                             \r"
     ]
    },
    {
     "name": "stdout",
     "output_type": "stream",
     "text": [
      "Epoch 4, Loss: 0.0312, Val Acc: 0.9824\n"
     ]
    },
    {
     "name": "stderr",
     "output_type": "stream",
     "text": [
      "                                                             \r"
     ]
    },
    {
     "name": "stdout",
     "output_type": "stream",
     "text": [
      "Epoch 5, Loss: 0.0241, Val Acc: 0.9805\n"
     ]
    },
    {
     "name": "stderr",
     "output_type": "stream",
     "text": [
      "                                                             \r"
     ]
    },
    {
     "name": "stdout",
     "output_type": "stream",
     "text": [
      "Epoch 6, Loss: 0.0196, Val Acc: 0.9863\n"
     ]
    },
    {
     "name": "stderr",
     "output_type": "stream",
     "text": [
      "                                                                    \r"
     ]
    },
    {
     "ename": "KeyboardInterrupt",
     "evalue": "",
     "output_type": "error",
     "traceback": [
      "\u001b[31m---------------------------------------------------------------------------\u001b[39m",
      "\u001b[31mKeyboardInterrupt\u001b[39m                         Traceback (most recent call last)",
      "\u001b[36mCell\u001b[39m\u001b[36m \u001b[39m\u001b[32mIn[41]\u001b[39m\u001b[32m, line 31\u001b[39m\n\u001b[32m     28\u001b[39m \u001b[38;5;28mprint\u001b[39m(\u001b[33m\"\u001b[39m\u001b[33mtraining\u001b[39m\u001b[33m\"\u001b[39m)\n\u001b[32m     30\u001b[39m \u001b[38;5;28;01mfor\u001b[39;00m epoch \u001b[38;5;129;01min\u001b[39;00m \u001b[38;5;28mrange\u001b[39m(\u001b[32m10\u001b[39m):\n\u001b[32m---> \u001b[39m\u001b[32m31\u001b[39m     loss = \u001b[43mtrain\u001b[49m\u001b[43m(\u001b[49m\u001b[43mmodel\u001b[49m\u001b[43m,\u001b[49m\u001b[43m \u001b[49m\u001b[43mtrain_dl\u001b[49m\u001b[43m)\u001b[49m\n\u001b[32m     32\u001b[39m     acc = evaluate(model, val_dl)\n\u001b[32m     33\u001b[39m     \u001b[38;5;28mprint\u001b[39m(\u001b[33mf\u001b[39m\u001b[33m\"\u001b[39m\u001b[33mEpoch \u001b[39m\u001b[38;5;132;01m{\u001b[39;00mepoch+\u001b[32m1\u001b[39m\u001b[38;5;132;01m}\u001b[39;00m\u001b[33m, Loss: \u001b[39m\u001b[38;5;132;01m{\u001b[39;00mloss\u001b[38;5;132;01m:\u001b[39;00m\u001b[33m.4f\u001b[39m\u001b[38;5;132;01m}\u001b[39;00m\u001b[33m, Val Acc: \u001b[39m\u001b[38;5;132;01m{\u001b[39;00macc\u001b[38;5;132;01m:\u001b[39;00m\u001b[33m.4f\u001b[39m\u001b[38;5;132;01m}\u001b[39;00m\u001b[33m\"\u001b[39m)\n",
      "\u001b[36mCell\u001b[39m\u001b[36m \u001b[39m\u001b[32mIn[41]\u001b[39m\u001b[32m, line 11\u001b[39m, in \u001b[36mtrain\u001b[39m\u001b[34m(model, loader)\u001b[39m\n\u001b[32m      9\u001b[39m preds = model(xb)\n\u001b[32m     10\u001b[39m loss = criterion(preds, yb)\n\u001b[32m---> \u001b[39m\u001b[32m11\u001b[39m \u001b[43mloss\u001b[49m\u001b[43m.\u001b[49m\u001b[43mbackward\u001b[49m\u001b[43m(\u001b[49m\u001b[43m)\u001b[49m\n\u001b[32m     12\u001b[39m optimizer.step()\n\u001b[32m     13\u001b[39m total_loss += loss.item()\n",
      "\u001b[36mFile \u001b[39m\u001b[32m~/miniconda3/envs/cs240env/lib/python3.11/site-packages/torch/_tensor.py:522\u001b[39m, in \u001b[36mTensor.backward\u001b[39m\u001b[34m(self, gradient, retain_graph, create_graph, inputs)\u001b[39m\n\u001b[32m    512\u001b[39m \u001b[38;5;28;01mif\u001b[39;00m has_torch_function_unary(\u001b[38;5;28mself\u001b[39m):\n\u001b[32m    513\u001b[39m     \u001b[38;5;28;01mreturn\u001b[39;00m handle_torch_function(\n\u001b[32m    514\u001b[39m         Tensor.backward,\n\u001b[32m    515\u001b[39m         (\u001b[38;5;28mself\u001b[39m,),\n\u001b[32m   (...)\u001b[39m\u001b[32m    520\u001b[39m         inputs=inputs,\n\u001b[32m    521\u001b[39m     )\n\u001b[32m--> \u001b[39m\u001b[32m522\u001b[39m \u001b[43mtorch\u001b[49m\u001b[43m.\u001b[49m\u001b[43mautograd\u001b[49m\u001b[43m.\u001b[49m\u001b[43mbackward\u001b[49m\u001b[43m(\u001b[49m\n\u001b[32m    523\u001b[39m \u001b[43m    \u001b[49m\u001b[38;5;28;43mself\u001b[39;49m\u001b[43m,\u001b[49m\u001b[43m \u001b[49m\u001b[43mgradient\u001b[49m\u001b[43m,\u001b[49m\u001b[43m \u001b[49m\u001b[43mretain_graph\u001b[49m\u001b[43m,\u001b[49m\u001b[43m \u001b[49m\u001b[43mcreate_graph\u001b[49m\u001b[43m,\u001b[49m\u001b[43m \u001b[49m\u001b[43minputs\u001b[49m\u001b[43m=\u001b[49m\u001b[43minputs\u001b[49m\n\u001b[32m    524\u001b[39m \u001b[43m\u001b[49m\u001b[43m)\u001b[49m\n",
      "\u001b[36mFile \u001b[39m\u001b[32m~/miniconda3/envs/cs240env/lib/python3.11/site-packages/torch/autograd/__init__.py:266\u001b[39m, in \u001b[36mbackward\u001b[39m\u001b[34m(tensors, grad_tensors, retain_graph, create_graph, grad_variables, inputs)\u001b[39m\n\u001b[32m    261\u001b[39m     retain_graph = create_graph\n\u001b[32m    263\u001b[39m \u001b[38;5;66;03m# The reason we repeat the same comment below is that\u001b[39;00m\n\u001b[32m    264\u001b[39m \u001b[38;5;66;03m# some Python versions print out the first line of a multi-line function\u001b[39;00m\n\u001b[32m    265\u001b[39m \u001b[38;5;66;03m# calls in the traceback and some print out the last line\u001b[39;00m\n\u001b[32m--> \u001b[39m\u001b[32m266\u001b[39m \u001b[43mVariable\u001b[49m\u001b[43m.\u001b[49m\u001b[43m_execution_engine\u001b[49m\u001b[43m.\u001b[49m\u001b[43mrun_backward\u001b[49m\u001b[43m(\u001b[49m\u001b[43m  \u001b[49m\u001b[38;5;66;43;03m# Calls into the C++ engine to run the backward pass\u001b[39;49;00m\n\u001b[32m    267\u001b[39m \u001b[43m    \u001b[49m\u001b[43mtensors\u001b[49m\u001b[43m,\u001b[49m\n\u001b[32m    268\u001b[39m \u001b[43m    \u001b[49m\u001b[43mgrad_tensors_\u001b[49m\u001b[43m,\u001b[49m\n\u001b[32m    269\u001b[39m \u001b[43m    \u001b[49m\u001b[43mretain_graph\u001b[49m\u001b[43m,\u001b[49m\n\u001b[32m    270\u001b[39m \u001b[43m    \u001b[49m\u001b[43mcreate_graph\u001b[49m\u001b[43m,\u001b[49m\n\u001b[32m    271\u001b[39m \u001b[43m    \u001b[49m\u001b[43minputs\u001b[49m\u001b[43m,\u001b[49m\n\u001b[32m    272\u001b[39m \u001b[43m    \u001b[49m\u001b[43mallow_unreachable\u001b[49m\u001b[43m=\u001b[49m\u001b[38;5;28;43;01mTrue\u001b[39;49;00m\u001b[43m,\u001b[49m\n\u001b[32m    273\u001b[39m \u001b[43m    \u001b[49m\u001b[43maccumulate_grad\u001b[49m\u001b[43m=\u001b[49m\u001b[38;5;28;43;01mTrue\u001b[39;49;00m\u001b[43m,\u001b[49m\n\u001b[32m    274\u001b[39m \u001b[43m\u001b[49m\u001b[43m)\u001b[49m\n",
      "\u001b[31mKeyboardInterrupt\u001b[39m: "
     ]
    }
   ],
   "source": [
    "from tqdm import tqdm\n",
    "\n",
    "def train(model, loader):\n",
    "    model.train()\n",
    "    total_loss = 0\n",
    "    for xb, yb in tqdm(loader, desc=\"Training\", leave=False):\n",
    "        xb, yb = xb.to(device), yb.to(device)\n",
    "        optimizer.zero_grad()\n",
    "        preds = model(xb)\n",
    "        loss = criterion(preds, yb)\n",
    "        loss.backward()\n",
    "        optimizer.step()\n",
    "        total_loss += loss.item()\n",
    "    \n",
    "    return total_loss / len(loader)\n",
    "\n",
    "def evaluate(model, loader):\n",
    "    model.eval()\n",
    "    total_acc = 0\n",
    "    with torch.no_grad():\n",
    "        for xb, yb in loader:\n",
    "            xb, yb = xb.to(device), yb.to(device)\n",
    "            preds = model(xb)\n",
    "            preds_class = (preds > 0.5).float()\n",
    "            total_acc += (preds_class == yb).float().mean().item()\n",
    "    return total_acc / len(loader)\n",
    "\n",
    "print(\"training\")\n",
    "\n",
    "for epoch in range(10):\n",
    "    loss = train(model, train_dl)\n",
    "    acc = evaluate(model, val_dl)\n",
    "    print(f\"Epoch {epoch+1}, Loss: {loss:.4f}, Val Acc: {acc:.4f}\")"
   ]
  },
  {
   "cell_type": "markdown",
   "id": "0d5fa703",
   "metadata": {},
   "source": [
    "##### saving the model"
   ]
  },
  {
   "cell_type": "code",
   "execution_count": 42,
   "id": "7054c8c6",
   "metadata": {},
   "outputs": [],
   "source": [
    "torch.save(model.state_dict(), model_file)\n"
   ]
  }
 ],
 "metadata": {
  "kernelspec": {
   "display_name": "cs240env",
   "language": "python",
   "name": "python3"
  },
  "language_info": {
   "codemirror_mode": {
    "name": "ipython",
    "version": 3
   },
   "file_extension": ".py",
   "mimetype": "text/x-python",
   "name": "python",
   "nbconvert_exporter": "python",
   "pygments_lexer": "ipython3",
   "version": "3.11.11"
  }
 },
 "nbformat": 4,
 "nbformat_minor": 5
}
