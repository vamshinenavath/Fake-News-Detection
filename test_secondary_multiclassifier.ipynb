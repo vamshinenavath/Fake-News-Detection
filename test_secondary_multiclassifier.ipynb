{
 "cells": [
  {
   "cell_type": "code",
   "execution_count": 9,
   "id": "6ee6ae38",
   "metadata": {},
   "outputs": [],
   "source": [
    "import numpy as np\n",
    "import pandas as pd"
   ]
  },
  {
   "cell_type": "code",
   "execution_count": 10,
   "id": "7b92ae41",
   "metadata": {},
   "outputs": [],
   "source": [
    "dataset_dir = \"datasets\"\n",
    "\n",
    "train_file = 'news_traindata'\n",
    "train_nrows = 110000 * 0.9\n",
    "train_df = pd.read_csv(f'{dataset_dir}/{train_file}.csv', encoding='utf-8', nrows=train_nrows)\n",
    "train_df = train_df.dropna()\n",
    "\n",
    "test_file = 'news_testdata'\n",
    "test_nrows = 110000 * 0.1\n",
    "test_df = pd.read_csv(f'{dataset_dir}/{test_file}.csv', encoding='utf-8', nrows=test_nrows)\n",
    "test_df = test_df.dropna()\n",
    "\n",
    "vocab_file = f'vocabs/vokab_{train_file}_{train_nrows}.pkl'\n",
    "model_file = f\"models/secondary_model_{train_file}_{train_nrows}.pth\"\n",
    "encoded_testfile = f\"encoded/secondary_{test_file}_{test_nrows}.pt\"\n",
    "encoded_trainfile = f\"encoded/secondary_{train_file}_{train_nrows}.pt\"\n",
    "label_encoding_file = f\"encoded/secondary_label_encoding_{train_file}_{train_nrows}.pkl\""
   ]
  },
  {
   "cell_type": "code",
   "execution_count": 11,
   "id": "e7a0774d",
   "metadata": {},
   "outputs": [],
   "source": [
    "train_df['content'] = train_df['title'].fillna('') + ' ' + train_df['content'].fillna('')\n",
    "test_df['content'] = test_df['title'].fillna('') + ' ' + test_df['content'].fillna('')"
   ]
  },
  {
   "cell_type": "code",
   "execution_count": 12,
   "id": "ecdc3753",
   "metadata": {},
   "outputs": [
    {
     "name": "stdout",
     "output_type": "stream",
     "text": [
      "Vocabulary loaded from 'vocab.pkl'.\n"
     ]
    }
   ],
   "source": [
    "import os\n",
    "import pickle\n",
    "from torchtext.vocab import build_vocab_from_iterator\n",
    "from torchtext.data.utils import get_tokenizer\n",
    "from collections import Counter\n",
    "\n",
    "MAX_VOCAB = 25000\n",
    "special_tokens = ['<unk>', '<pad>']\n",
    "tokenizer = get_tokenizer('basic_english')\n",
    "\n",
    "\n",
    "if os.path.exists(vocab_file):\n",
    "    with open(vocab_file, 'rb') as f:\n",
    "        vocab = pickle.load(f)\n",
    "    print(\"Vocabulary loaded from 'vocab.pkl'.\")\n",
    "\n",
    "else:\n",
    "    print(\"Vocab not found: \", vocab_file)\n"
   ]
  },
  {
   "cell_type": "code",
   "execution_count": 13,
   "id": "5e1a9872",
   "metadata": {},
   "outputs": [],
   "source": [
    "train_df = train_df[train_df['label'] == 1]\n",
    "test_df = test_df[test_df['label'] == 1]"
   ]
  },
  {
   "cell_type": "code",
   "execution_count": 14,
   "id": "784ff60a",
   "metadata": {},
   "outputs": [
    {
     "name": "stdout",
     "output_type": "stream",
     "text": [
      "Label encoder loaded from encoded/secondary_label_encoding_news_traindata_99000.0.pkl.\n",
      "Encoded file not found:  encoded/secondary_news_testdata_11000.0.pt\n"
     ]
    }
   ],
   "source": [
    "import torch\n",
    "from torch.nn.utils.rnn import pad_sequence\n",
    "from sklearn.preprocessing import LabelEncoder\n",
    "import torch.nn.functional as F\n",
    "\n",
    "MAX_LENGTH = 4096\n",
    "\n",
    "if os.path.exists(label_encoding_file):\n",
    "    with open(label_encoding_file, 'rb') as f:\n",
    "        le = pickle.load(f)\n",
    "    print(f\"Label encoder loaded from {label_encoding_file}.\")\n",
    "else:\n",
    "    print(f\"Label encoder not found: {label_encoding_file}.\")\n",
    "\n",
    "train_df['type_encoded'] = le.transform(train_df['type'])\n",
    "test_df['type_encoded'] = le.transform(test_df['type'])\n",
    "NUM_CLASSES = len(le.classes_)\n",
    "\n",
    "if os.path.exists(encoded_testfile):\n",
    "    data = torch.load(encoded_testfile)\n",
    "    test_encoded_texts = data['inputs']\n",
    "    test_labels = data['labels']\n",
    "else:\n",
    "    print(\"Encoded file not found: \", encoded_testfile)"
   ]
  },
  {
   "cell_type": "code",
   "execution_count": 15,
   "id": "198221cd",
   "metadata": {},
   "outputs": [
    {
     "ename": "NameError",
     "evalue": "name 'test_encoded_texts' is not defined",
     "output_type": "error",
     "traceback": [
      "\u001b[31m---------------------------------------------------------------------------\u001b[39m",
      "\u001b[31mNameError\u001b[39m                                 Traceback (most recent call last)",
      "\u001b[36mCell\u001b[39m\u001b[36m \u001b[39m\u001b[32mIn[15]\u001b[39m\u001b[32m, line 15\u001b[39m\n\u001b[32m     11\u001b[39m     \u001b[38;5;28;01mdef\u001b[39;00m\u001b[38;5;250m \u001b[39m\u001b[34m__getitem__\u001b[39m(\u001b[38;5;28mself\u001b[39m, idx):\n\u001b[32m     12\u001b[39m         \u001b[38;5;28;01mreturn\u001b[39;00m \u001b[38;5;28mself\u001b[39m.X[idx], \u001b[38;5;28mself\u001b[39m.y[idx]\n\u001b[32m---> \u001b[39m\u001b[32m15\u001b[39m val_ds = NewsDataset(\u001b[43mtest_encoded_texts\u001b[49m[:\u001b[32m500\u001b[39m], test_labels[:\u001b[32m500\u001b[39m])\n\u001b[32m     16\u001b[39m val_dl = DataLoader(val_ds, batch_size=\u001b[32m32\u001b[39m, num_workers=\u001b[32m0\u001b[39m)\n",
      "\u001b[31mNameError\u001b[39m: name 'test_encoded_texts' is not defined"
     ]
    }
   ],
   "source": [
    "from torch.utils.data import Dataset, DataLoader\n",
    "\n",
    "class NewsDataset(Dataset):\n",
    "    def __init__(self, X, y):\n",
    "        self.X = X\n",
    "        self.y = y\n",
    "\n",
    "    def __len__(self):\n",
    "        return len(self.X)\n",
    "\n",
    "    def __getitem__(self, idx):\n",
    "        return self.X[idx], self.y[idx]\n",
    "\n",
    "\n",
    "val_ds = NewsDataset(test_encoded_texts[:500], test_labels[:500])\n",
    "val_dl = DataLoader(val_ds, batch_size=32, num_workers=0)"
   ]
  },
  {
   "cell_type": "code",
   "execution_count": null,
   "id": "0b240ef4",
   "metadata": {},
   "outputs": [
    {
     "name": "stdout",
     "output_type": "stream",
     "text": [
      "Using device: mps\n"
     ]
    },
    {
     "name": "stdout",
     "output_type": "stream",
     "text": [
      "done constructing model\n"
     ]
    },
    {
     "data": {
      "text/plain": [
       "<All keys matched successfully>"
      ]
     },
     "execution_count": 29,
     "metadata": {},
     "output_type": "execute_result"
    }
   ],
   "source": [
    "from mulstage_model import CNN_BiLSTM\n",
    "from torch import nn\n",
    "\n",
    "\n",
    "# device = torch.device('cuda' if torch.cuda.is_available() else 'cpu')\n",
    "device = torch.device('mps' if torch.backends.mps.is_available() else 'cpu')\n",
    "print(f\"Using device: {device}\")\n",
    "model = CNN_BiLSTM(vocab=vocab, vocab_size=len(vocab), embed_dim=100, hidden_dim=128, output_dim=NUM_CLASSES, pad_idx=vocab['<pad>'])\n",
    "model.to(device)\n",
    "\n",
    "print(\"done constructing model\")\n",
    "\n",
    "model.load_state_dict(torch.load(model_file))\n"
   ]
  },
  {
   "cell_type": "code",
   "execution_count": null,
   "id": "c1039e94",
   "metadata": {},
   "outputs": [
    {
     "name": "stdout",
     "output_type": "stream",
     "text": [
      "Basic evaluation accuracy: 0.8406\n"
     ]
    }
   ],
   "source": [
    "def evaluate(model, loader):\n",
    "    model.eval()\n",
    "    total_acc = 0\n",
    "\n",
    "    pred_list = []\n",
    "    actual_list = []\n",
    "\n",
    "    with torch.no_grad():\n",
    "        for xb, yb in loader:\n",
    "            xb, yb = xb.to(device), yb.to(device)\n",
    "            preds = model(xb)\n",
    "            preds_class = preds.argmax(dim=1)\n",
    "            labels_class = yb.argmax(dim=1)\n",
    "            pred_list.append(preds_class.cpu().numpy())\n",
    "            actual_list.append(labels_class.cpu().numpy())\n",
    "            total_acc += (preds_class == labels_class).float().mean().item()\n",
    "    \n",
    "    return total_acc / len(loader), np.concatenate(pred_list), np.concatenate(actual_list)\n",
    "\n",
    "\n",
    "eval, pred, actual = evaluate(model, val_dl)\n",
    "print(f\"Basic evaluation accuracy: {eval:.4f}\")"
   ]
  },
  {
   "cell_type": "code",
   "execution_count": null,
   "id": "e40b321f",
   "metadata": {},
   "outputs": [
    {
     "ename": "ModuleNotFoundError",
     "evalue": "No module named 'matplotlib'",
     "output_type": "error",
     "traceback": [
      "\u001b[31m---------------------------------------------------------------------------\u001b[39m",
      "\u001b[31mModuleNotFoundError\u001b[39m                       Traceback (most recent call last)",
      "\u001b[36mCell\u001b[39m\u001b[36m \u001b[39m\u001b[32mIn[8]\u001b[39m\u001b[32m, line 1\u001b[39m\n\u001b[32m----> \u001b[39m\u001b[32m1\u001b[39m \u001b[38;5;28;01mimport\u001b[39;00m\u001b[38;5;250m \u001b[39m\u001b[34;01mmatplotlib\u001b[39;00m\u001b[34;01m.\u001b[39;00m\u001b[34;01mpyplot\u001b[39;00m\u001b[38;5;250m \u001b[39m\u001b[38;5;28;01mas\u001b[39;00m\u001b[38;5;250m \u001b[39m\u001b[34;01mplt\u001b[39;00m\n\u001b[32m      2\u001b[39m \u001b[38;5;28;01mimport\u001b[39;00m\u001b[38;5;250m \u001b[39m\u001b[34;01mseaborn\u001b[39;00m\u001b[38;5;250m \u001b[39m\u001b[38;5;28;01mas\u001b[39;00m\u001b[38;5;250m \u001b[39m\u001b[34;01msns\u001b[39;00m\n\u001b[32m      4\u001b[39m \u001b[38;5;28;01mdef\u001b[39;00m\u001b[38;5;250m \u001b[39m\u001b[34mplot_confusion_matrix\u001b[39m(y_true, y_pred, classes, normalize=\u001b[38;5;28;01mFalse\u001b[39;00m):\n",
      "\u001b[31mModuleNotFoundError\u001b[39m: No module named 'matplotlib'"
     ]
    }
   ],
   "source": [
    "import matplotlib.pyplot as plt\n",
    "import seaborn as sns\n",
    "\n",
    "def plot_confusion_matrix(y_true, y_pred, classes, normalize=False):\n",
    "    import matplotlib.pyplot as plt\n",
    "    from sklearn.metrics import confusion_matrix\n",
    "    import seaborn as sns\n",
    "\n",
    "    cm = confusion_matrix(y_true, y_pred)\n",
    "    if normalize:\n",
    "        cm = cm.astype('float') / cm.sum(axis=1)[:, np.newaxis]\n",
    "\n",
    "    plt.figure(figsize=(10, 8))\n",
    "    sns.heatmap(cm, annot=True, fmt='.2f' if normalize else 'd', cmap='Blues', xticklabels=classes, yticklabels=classes)\n",
    "    plt.ylabel('True label')\n",
    "    plt.xlabel('Predicted label')\n",
    "    plt.title('Confusion Matrix')\n",
    "    plt.show()\n",
    "    plt.savefig('secondary_model_confusion_matrix.png')\n",
    "\n",
    "\n",
    "plot_confusion_matrix(actual, pred, classes=le.classes_, normalize=True)"
   ]
  }
 ],
 "metadata": {
  "kernelspec": {
   "display_name": ".cs240project",
   "language": "python",
   "name": "python3"
  },
  "language_info": {
   "codemirror_mode": {
    "name": "ipython",
    "version": 3
   },
   "file_extension": ".py",
   "mimetype": "text/x-python",
   "name": "python",
   "nbconvert_exporter": "python",
   "pygments_lexer": "ipython3",
   "version": "3.12.3"
  }
 },
 "nbformat": 4,
 "nbformat_minor": 5
}
