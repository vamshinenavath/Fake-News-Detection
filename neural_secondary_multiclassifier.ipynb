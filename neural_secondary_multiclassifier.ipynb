{
 "cells": [
  {
   "cell_type": "code",
   "execution_count": 39,
   "id": "84d57234",
   "metadata": {},
   "outputs": [],
   "source": [
    "import pandas as pd\n",
    "import numpy as np"
   ]
  },
  {
   "cell_type": "code",
   "execution_count": 40,
   "id": "f8e63c54",
   "metadata": {},
   "outputs": [
    {
     "data": {
      "text/html": [
       "<div>\n",
       "<style scoped>\n",
       "    .dataframe tbody tr th:only-of-type {\n",
       "        vertical-align: middle;\n",
       "    }\n",
       "\n",
       "    .dataframe tbody tr th {\n",
       "        vertical-align: top;\n",
       "    }\n",
       "\n",
       "    .dataframe thead th {\n",
       "        text-align: right;\n",
       "    }\n",
       "</style>\n",
       "<table border=\"1\" class=\"dataframe\">\n",
       "  <thead>\n",
       "    <tr style=\"text-align: right;\">\n",
       "      <th></th>\n",
       "      <th>type</th>\n",
       "      <th>title</th>\n",
       "      <th>content</th>\n",
       "      <th>label</th>\n",
       "    </tr>\n",
       "  </thead>\n",
       "  <tbody>\n",
       "    <tr>\n",
       "      <th>0</th>\n",
       "      <td>satire</td>\n",
       "      <td>Massive Incoming Comet, Earthquake and Tsunami...</td>\n",
       "      <td>It has been reported that there is a disaster ...</td>\n",
       "      <td>1</td>\n",
       "    </tr>\n",
       "    <tr>\n",
       "      <th>1</th>\n",
       "      <td>political</td>\n",
       "      <td>A Whisper at the University of Houston-Downtow...</td>\n",
       "      <td>The newscaster said, \"UHD student is trying to...</td>\n",
       "      <td>1</td>\n",
       "    </tr>\n",
       "    <tr>\n",
       "      <th>2</th>\n",
       "      <td>clickbait</td>\n",
       "      <td>TV show forces babies to cross-dress, pushes f...</td>\n",
       "      <td>NewsGender\\n\\nISLE OF WIGHT, England, August 2...</td>\n",
       "      <td>1</td>\n",
       "    </tr>\n",
       "    <tr>\n",
       "      <th>3</th>\n",
       "      <td>political</td>\n",
       "      <td>National Review Online</td>\n",
       "      <td>Cliffhanger\\n\\nWright and political wrongs.\\n\\...</td>\n",
       "      <td>1</td>\n",
       "    </tr>\n",
       "    <tr>\n",
       "      <th>4</th>\n",
       "      <td>clickbait</td>\n",
       "      <td>11 Reasons Why Liberals And Progressives Are M...</td>\n",
       "      <td>13415 SHARES Facebook Twitter Reddit Stumbleup...</td>\n",
       "      <td>1</td>\n",
       "    </tr>\n",
       "  </tbody>\n",
       "</table>\n",
       "</div>"
      ],
      "text/plain": [
       "        type                                              title  \\\n",
       "0     satire  Massive Incoming Comet, Earthquake and Tsunami...   \n",
       "1  political  A Whisper at the University of Houston-Downtow...   \n",
       "2  clickbait  TV show forces babies to cross-dress, pushes f...   \n",
       "3  political                             National Review Online   \n",
       "4  clickbait  11 Reasons Why Liberals And Progressives Are M...   \n",
       "\n",
       "                                             content  label  \n",
       "0  It has been reported that there is a disaster ...      1  \n",
       "1  The newscaster said, \"UHD student is trying to...      1  \n",
       "2  NewsGender\\n\\nISLE OF WIGHT, England, August 2...      1  \n",
       "3  Cliffhanger\\n\\nWright and political wrongs.\\n\\...      1  \n",
       "4  13415 SHARES Facebook Twitter Reddit Stumbleup...      1  "
      ]
     },
     "execution_count": 40,
     "metadata": {},
     "output_type": "execute_result"
    }
   ],
   "source": [
    "dataset_dir = 'datasets'\n",
    "file = 'news_traindata' # 'WELFake_Dataset.csv'\n",
    "nrows = 110000 * 0.9\n",
    "vocab_file = f'vocabs/vokab_{file}_{nrows}.pkl'\n",
    "pri_model_file = f\"models/simple_model_{file}_{nrows}.pth\"\n",
    "sec_model_file = f\"models/stage2_model_{file}_{nrows}.pth\"\n",
    "\n",
    "df = pd.read_csv(f'{dataset_dir}/{file}.csv', encoding='utf-8', nrows=nrows)\n",
    "df = df.dropna()\n",
    "df = df[df['label'] == 1]\n",
    "\n",
    "df.head()"
   ]
  },
  {
   "cell_type": "code",
   "execution_count": 41,
   "id": "703d2380",
   "metadata": {},
   "outputs": [
    {
     "name": "stdout",
     "output_type": "stream",
     "text": [
      "Vocabulary loaded from 'vocab.pkl'.\n"
     ]
    }
   ],
   "source": [
    "import os\n",
    "import pickle\n",
    "from torchtext.data.utils import get_tokenizer\n",
    "from collections import Counter\n",
    "\n",
    "MAX_VOCAB = 25000\n",
    "special_tokens = ['<unk>', '<pad>']\n",
    "tokenizer = get_tokenizer('basic_english')\n",
    "\n",
    "\n",
    "if os.path.exists(vocab_file):\n",
    "    with open(vocab_file, 'rb') as f:\n",
    "        vocab = pickle.load(f)\n",
    "    print(\"Vocabulary loaded from 'vocab.pkl'.\")\n",
    "\n",
    "else:\n",
    "    print(\"Unable to load vocab.\")\n",
    "    \n"
   ]
  },
  {
   "cell_type": "code",
   "execution_count": 42,
   "id": "a3b5e611",
   "metadata": {},
   "outputs": [
    {
     "name": "stdout",
     "output_type": "stream",
     "text": [
      "Filtered texts: 86757, Labels: torch.Size([86757, 10])\n"
     ]
    }
   ],
   "source": [
    "import torch\n",
    "from torch.nn.utils.rnn import pad_sequence\n",
    "from sklearn.preprocessing import LabelEncoder\n",
    "import torch.nn.functional as F\n",
    "\n",
    "MAX_LENGTH = 2048\n",
    "\n",
    "# Label encode the 'type' column\n",
    "le = LabelEncoder()\n",
    "df['type_encoded'] = le.fit_transform(df['type'])\n",
    "\n",
    "NUM_CLASSES = len(le.classes_)  # Number of unique classes\n",
    "\n",
    "encoded_texts_and_labels = []\n",
    "for text, label in zip(df['content'], df['type_encoded']):\n",
    "    if pd.notna(text):\n",
    "        encoded = [vocab[token] for token in tokenizer(text)]\n",
    "        \n",
    "        if len(encoded) <= MAX_LENGTH:\n",
    "            encoded_texts_and_labels.append((torch.tensor(encoded, dtype=torch.long), label))\n",
    "\n",
    "# Separate encoded texts and labels\n",
    "encoded_texts = [item[0] for item in encoded_texts_and_labels]\n",
    "label_indices = torch.tensor([item[1] for item in encoded_texts_and_labels], dtype=torch.long)\n",
    "\n",
    "# Create one-hot encoded labels\n",
    "labels = F.one_hot(label_indices, num_classes=NUM_CLASSES).float()\n",
    "\n",
    "# Pad sequences\n",
    "padded_texts = pad_sequence(encoded_texts, batch_first=True, padding_value=vocab['<pad>'])\n",
    "\n",
    "print(f\"Filtered texts: {len(padded_texts)}, Labels: {labels.shape}\")\n"
   ]
  },
  {
   "cell_type": "code",
   "execution_count": 43,
   "id": "434fb0d3",
   "metadata": {},
   "outputs": [
    {
     "name": "stdout",
     "output_type": "stream",
     "text": [
      "tensor([0., 0., 0., 0., 0., 0., 0., 0., 1., 0.])\n"
     ]
    }
   ],
   "source": [
    "df.head()\n",
    "print(labels[0])"
   ]
  },
  {
   "cell_type": "code",
   "execution_count": 44,
   "id": "d388da03",
   "metadata": {},
   "outputs": [],
   "source": [
    "from torch.utils.data import Dataset, DataLoader\n",
    "from sklearn.model_selection import train_test_split\n",
    "\n",
    "\n",
    "class NewsDataset(Dataset):\n",
    "    def __init__(self, X, y):\n",
    "        self.X = X\n",
    "        self.y = y\n",
    "\n",
    "    def __len__(self):\n",
    "        return len(self.X)\n",
    "\n",
    "    def __getitem__(self, idx):\n",
    "        return self.X[idx], self.y[idx]\n",
    "\n",
    "X_train, X_val, y_train, y_val = train_test_split(padded_texts, labels, test_size=0.1)\n",
    "\n",
    "train_ds = NewsDataset(X_train, y_train)\n",
    "val_ds = NewsDataset(X_val, y_val)\n",
    "\n",
    "train_dl = DataLoader(train_ds, batch_size=32, shuffle=True, pin_memory=True, num_workers=0)\n",
    "val_dl = DataLoader(val_ds, batch_size=32, num_workers=0)"
   ]
  },
  {
   "cell_type": "code",
   "execution_count": 45,
   "id": "39ed7946",
   "metadata": {},
   "outputs": [],
   "source": [
    "# ===== ADD THESE IMPORTS =====\n",
    "from sklearn.metrics import confusion_matrix, classification_report\n",
    "import seaborn as sns\n",
    "import matplotlib.pyplot as plt\n",
    "import numpy as np\n",
    "from collections import Counter"
   ]
  },
  {
   "cell_type": "code",
   "execution_count": 46,
   "id": "7dea5c91",
   "metadata": {},
   "outputs": [
    {
     "name": "stdout",
     "output_type": "stream",
     "text": [
      "Using device: mps\n",
      "Model architecture:\n",
      "FakeNewsClassifier(\n",
      "  (fc1): Linear(in_features=556, out_features=512, bias=True)\n",
      "  (relu1): ReLU()\n",
      "  (dropout1): Dropout(p=0.5, inplace=False)\n",
      "  (fc2): Linear(in_features=512, out_features=256, bias=True)\n",
      "  (relu2): ReLU()\n",
      "  (dropout2): Dropout(p=0.5, inplace=False)\n",
      "  (fc3): Linear(in_features=256, out_features=128, bias=True)\n",
      "  (relu3): ReLU()\n",
      "  (dropout3): Dropout(p=0.5, inplace=False)\n",
      "  (fc4): Linear(in_features=128, out_features=10, bias=True)\n",
      ")\n",
      "done constructing model\n",
      "done constructing optimizer\n",
      "Precomputing features for training set...\n"
     ]
    },
    {
     "name": "stderr",
     "output_type": "stream",
     "text": [
      "Precomputing features: 100%|██████████| 2441/2441 [03:44<00:00, 10.87it/s]\n"
     ]
    },
    {
     "name": "stdout",
     "output_type": "stream",
     "text": [
      "Training features shape: torch.Size([78081, 556])\n",
      "Precomputing features for validation set...\n"
     ]
    },
    {
     "name": "stderr",
     "output_type": "stream",
     "text": [
      "Precomputing features: 100%|██████████| 272/272 [00:27<00:00,  9.84it/s]"
     ]
    },
    {
     "name": "stdout",
     "output_type": "stream",
     "text": [
      "Validation features shape: torch.Size([8676, 556])\n"
     ]
    },
    {
     "name": "stderr",
     "output_type": "stream",
     "text": [
      "\n"
     ]
    }
   ],
   "source": [
    "import importlib\n",
    "import mulstage_model\n",
    "importlib.reload(mulstage_model)\n",
    "from mulstage_model import CNN_BiLSTM, FakeNewsClassifier\n",
    "import torch.nn as nn\n",
    "\n",
    "# device = torch.device('cuda' if torch.cuda.is_available() else 'cpu')\n",
    "device = torch.device('mps' if torch.backends.mps.is_available() else 'cpu')\n",
    "print(f\"Using device: {device}\")\n",
    "sec_model = FakeNewsClassifier(input_dim= ((100 * 3) + (128 * 2)), num_classes=NUM_CLASSES)\n",
    "sec_model.to(device)\n",
    "print(\"Model architecture:\")\n",
    "print(sec_model)\n",
    "\n",
    "pri_model = CNN_BiLSTM(vocab=vocab, vocab_size=len(vocab), embed_dim=100, hidden_dim=128, output_dim=11, pad_idx=vocab['<pad>'])\n",
    "pri_model.to(device)\n",
    "\n",
    "#pri_model.load_state_dict(torch.load(f\"model_news_data_bin_{nrows}.pth\", map_location=torch.device('cpu')))\n",
    "model_path = os.path.abspath(pri_model_file)\n",
    "pri_model.load_state_dict(torch.load(model_path, map_location=torch.device('cpu')))\n",
    "\n",
    "print(\"done constructing model\")\n",
    "\n",
    "criterion = nn.CrossEntropyLoss()\n",
    "optimizer = torch.optim.Adam(sec_model.parameters(), lr=1e-3)   \n",
    "\n",
    "print(\"done constructing optimizer\")\n",
    "import torch\n",
    "from tqdm import tqdm\n",
    "\n",
    "# Modify the extract_features function to collect all features\n",
    "def precompute_features(model, dataloader):\n",
    "    \"\"\"\n",
    "    Precompute features from the primary model for all samples in the dataloader\n",
    "    Returns:\n",
    "        all_features: tensor of shape [num_samples, feature_dim]\n",
    "        all_labels: tensor of shape [num_samples]\n",
    "    \"\"\"\n",
    "    model.eval()  # Set model to evaluation mode\n",
    "    all_features = []\n",
    "    all_labels = []\n",
    "    \n",
    "    with torch.no_grad():\n",
    "        for xb, yb in tqdm(dataloader, desc=\"Precomputing features\"):\n",
    "            xb, yb = xb.to(device), yb.to(device)\n",
    "            features = model.extract_features(xb)\n",
    "            all_features.append(features)\n",
    "            all_labels.append(yb)\n",
    "    \n",
    "    # Concatenate all features and labels\n",
    "    all_features = torch.cat(all_features, dim=0)\n",
    "    all_labels = torch.cat(all_labels, dim=0)\n",
    "    \n",
    "    return all_features, all_labels\n",
    "\n",
    "# Create a dataset class for precomputed features\n",
    "class PrecomputedFeatureDataset(torch.utils.data.Dataset):\n",
    "    def __init__(self, features, labels):\n",
    "        self.features = features\n",
    "        self.labels = labels\n",
    "    \n",
    "    def __len__(self):\n",
    "        return len(self.labels)\n",
    "    \n",
    "    def __getitem__(self, idx):\n",
    "        return self.features[idx], self.labels[idx]\n",
    "\n",
    "# Precompute features for training and validation sets\n",
    "print(\"Precomputing features for training set...\")\n",
    "train_features, train_labels = precompute_features(pri_model, train_dl)\n",
    "print(f\"Training features shape: {train_features.shape}\")\n",
    "\n",
    "print(\"Precomputing features for validation set...\")\n",
    "val_features, val_labels = precompute_features(pri_model, val_dl)\n",
    "print(f\"Validation features shape: {val_features.shape}\")\n",
    "\n",
    "# Create datasets and dataloaders for precomputed features\n",
    "train_feature_dataset = PrecomputedFeatureDataset(train_features, train_labels)\n",
    "val_feature_dataset = PrecomputedFeatureDataset(val_features, val_labels)\n",
    "\n",
    "# Define batch size for the new dataloader (can be different than original)\n",
    "batch_size = 64  # Adjust according to your needs\n",
    "\n",
    "train_feature_dl = torch.utils.data.DataLoader(\n",
    "    train_feature_dataset, \n",
    "    batch_size=batch_size,\n",
    "    shuffle=True\n",
    ")\n",
    "\n",
    "val_feature_dl = torch.utils.data.DataLoader(\n",
    "    val_feature_dataset, \n",
    "    batch_size=batch_size,\n",
    "    shuffle=False\n",
    ")\n",
    "\n",
    "# Now modify the training function to use precomputed features\n",
    "def train_with_precomputed(sec_model, loader):\n",
    "    sec_model.train()\n",
    "    total_loss = 0\n",
    "    \n",
    "    for features, labels in tqdm(loader, desc=\"Training\", leave=False):\n",
    "        features, labels = features.to(device), labels.to(device)\n",
    "        \n",
    "        optimizer.zero_grad()\n",
    "        preds = sec_model(features)\n",
    "        loss = criterion(preds, labels)\n",
    "        loss.backward()\n",
    "        optimizer.step()\n",
    "        \n",
    "        total_loss += loss.item()\n",
    "    \n",
    "    return total_loss / len(loader)\n",
    "\n",
    "# def evaluate_with_precomputed(sec_model, loader):\n",
    "#     sec_model.eval()\n",
    "#     total_acc = 0\n",
    "    \n",
    "#     with torch.no_grad():\n",
    "#         for features, labels in loader:\n",
    "#             features, labels = features.to(device), labels.to(device)\n",
    "            \n",
    "#             preds = sec_model(features)\n",
    "#             preds_class = preds.argmax(dim=1)\n",
    "#             labels_class = labels.argmax(dim=1)\n",
    "            \n",
    "#             total_acc += (preds_class == labels_class).float().mean().item()\n",
    "    \n",
    "#     return total_acc / len(loader)\n",
    "\n",
    "def evaluate_with_confusion_matrix(sec_model, loader):\n",
    "    sec_model.eval()\n",
    "    all_preds = []\n",
    "    all_labels = []\n",
    "    \n",
    "    with torch.no_grad():\n",
    "        for features, labels in loader:\n",
    "            features, labels = features.to(device), labels.to(device)\n",
    "            preds = sec_model(features)\n",
    "            preds_class = preds.argmax(dim=1)\n",
    "            labels_class = labels.argmax(dim=1)\n",
    "            all_preds.extend(preds_class.cpu().numpy())\n",
    "            all_labels.extend(labels_class.cpu().numpy())\n",
    "    \n",
    "    return all_labels, all_preds\n",
    "\n",
    "def calculate_accuracy(sec_model, loader):\n",
    "    all_labels, all_preds = evaluate_with_confusion_matrix(sec_model, loader)\n",
    "    return (np.array(all_labels) == np.array(all_preds)).mean()\n"
   ]
  },
  {
   "cell_type": "code",
   "execution_count": 47,
   "id": "8883cde4",
   "metadata": {},
   "outputs": [
    {
     "name": "stdout",
     "output_type": "stream",
     "text": [
      "Training with precomputed features\n"
     ]
    },
    {
     "name": "stderr",
     "output_type": "stream",
     "text": [
      "                                                              \r"
     ]
    },
    {
     "name": "stdout",
     "output_type": "stream",
     "text": [
      "Epoch 10, Loss: 0.4474, Val Acc: 0.8771\n"
     ]
    },
    {
     "name": "stderr",
     "output_type": "stream",
     "text": [
      "                                                              \r"
     ]
    },
    {
     "name": "stdout",
     "output_type": "stream",
     "text": [
      "Epoch 20, Loss: 0.3917, Val Acc: 0.8736\n"
     ]
    },
    {
     "name": "stderr",
     "output_type": "stream",
     "text": [
      "                                                              \r"
     ]
    },
    {
     "name": "stdout",
     "output_type": "stream",
     "text": [
      "Epoch 30, Loss: 0.3554, Val Acc: 0.8744\n"
     ]
    },
    {
     "name": "stderr",
     "output_type": "stream",
     "text": [
      "                                                              \r"
     ]
    },
    {
     "name": "stdout",
     "output_type": "stream",
     "text": [
      "Epoch 40, Loss: 0.3213, Val Acc: 0.8722\n"
     ]
    },
    {
     "name": "stderr",
     "output_type": "stream",
     "text": [
      "                                                              \r"
     ]
    },
    {
     "name": "stdout",
     "output_type": "stream",
     "text": [
      "Epoch 50, Loss: 0.3034, Val Acc: 0.8741\n"
     ]
    },
    {
     "name": "stderr",
     "output_type": "stream",
     "text": [
      "                                                              \r"
     ]
    },
    {
     "name": "stdout",
     "output_type": "stream",
     "text": [
      "Epoch 60, Loss: 0.2775, Val Acc: 0.8691\n"
     ]
    },
    {
     "name": "stderr",
     "output_type": "stream",
     "text": [
      "                                                              \r"
     ]
    },
    {
     "name": "stdout",
     "output_type": "stream",
     "text": [
      "Epoch 70, Loss: 0.2660, Val Acc: 0.8703\n"
     ]
    },
    {
     "name": "stderr",
     "output_type": "stream",
     "text": [
      "                                                              \r"
     ]
    },
    {
     "name": "stdout",
     "output_type": "stream",
     "text": [
      "Epoch 80, Loss: 0.2490, Val Acc: 0.8688\n"
     ]
    },
    {
     "name": "stderr",
     "output_type": "stream",
     "text": [
      "                                                              \r"
     ]
    },
    {
     "name": "stdout",
     "output_type": "stream",
     "text": [
      "Epoch 90, Loss: 0.2405, Val Acc: 0.8714\n"
     ]
    },
    {
     "name": "stderr",
     "output_type": "stream",
     "text": [
      "                                                              \r"
     ]
    },
    {
     "name": "stdout",
     "output_type": "stream",
     "text": [
      "Epoch 100, Loss: 0.2345, Val Acc: 0.8673\n"
     ]
    },
    {
     "name": "stderr",
     "output_type": "stream",
     "text": [
      "                                                              \r"
     ]
    },
    {
     "name": "stdout",
     "output_type": "stream",
     "text": [
      "Epoch 110, Loss: 0.2274, Val Acc: 0.8673\n"
     ]
    },
    {
     "name": "stderr",
     "output_type": "stream",
     "text": [
      "                                                              \r"
     ]
    },
    {
     "name": "stdout",
     "output_type": "stream",
     "text": [
      "Epoch 120, Loss: 0.2141, Val Acc: 0.8688\n"
     ]
    },
    {
     "name": "stderr",
     "output_type": "stream",
     "text": [
      "                                                              \r"
     ]
    },
    {
     "name": "stdout",
     "output_type": "stream",
     "text": [
      "Epoch 130, Loss: 0.2092, Val Acc: 0.8683\n"
     ]
    },
    {
     "name": "stderr",
     "output_type": "stream",
     "text": [
      "                                                              \r"
     ]
    },
    {
     "name": "stdout",
     "output_type": "stream",
     "text": [
      "Epoch 140, Loss: 0.2089, Val Acc: 0.8632\n"
     ]
    },
    {
     "name": "stderr",
     "output_type": "stream",
     "text": [
      "                                                              \r"
     ]
    },
    {
     "name": "stdout",
     "output_type": "stream",
     "text": [
      "Epoch 150, Loss: 0.1989, Val Acc: 0.8658\n"
     ]
    },
    {
     "name": "stderr",
     "output_type": "stream",
     "text": [
      "                                                              \r"
     ]
    },
    {
     "name": "stdout",
     "output_type": "stream",
     "text": [
      "Epoch 160, Loss: 0.1974, Val Acc: 0.8631\n"
     ]
    },
    {
     "name": "stderr",
     "output_type": "stream",
     "text": [
      "                                                              \r"
     ]
    },
    {
     "name": "stdout",
     "output_type": "stream",
     "text": [
      "Epoch 170, Loss: 0.1966, Val Acc: 0.8633\n"
     ]
    },
    {
     "name": "stderr",
     "output_type": "stream",
     "text": [
      "                                                              \r"
     ]
    },
    {
     "name": "stdout",
     "output_type": "stream",
     "text": [
      "Epoch 180, Loss: 0.1942, Val Acc: 0.8643\n"
     ]
    },
    {
     "name": "stderr",
     "output_type": "stream",
     "text": [
      "                                                              \r"
     ]
    },
    {
     "name": "stdout",
     "output_type": "stream",
     "text": [
      "Epoch 190, Loss: 0.1916, Val Acc: 0.8624\n"
     ]
    },
    {
     "name": "stderr",
     "output_type": "stream",
     "text": [
      "                                                              \r"
     ]
    },
    {
     "name": "stdout",
     "output_type": "stream",
     "text": [
      "Epoch 200, Loss: 0.1835, Val Acc: 0.8647\n"
     ]
    }
   ],
   "source": [
    "\n",
    "# Training loop using precomputed features\n",
    "print(\"Training with precomputed features\")\n",
    "for epoch in range(200):\n",
    "    loss = train_with_precomputed(sec_model, train_feature_dl)\n",
    "    acc = calculate_accuracy(sec_model, val_feature_dl)\n",
    "    if (epoch + 1) % 10 == 0:\n",
    "        print(f\"Epoch {epoch+1}, Loss: {loss:.4f}, Val Acc: {acc:.4f}\")\n"
   ]
  },
  {
   "cell_type": "code",
   "execution_count": 48,
   "id": "e8c4c10e",
   "metadata": {},
   "outputs": [
    {
     "data": {
      "image/png": "[encoded data removed]",
      "text/plain": [
       "<Figure size 1000x800 with 2 Axes>"
      ]
     },
     "metadata": {},
     "output_type": "display_data"
    },
    {
     "name": "stdout",
     "output_type": "stream",
     "text": [
      "              precision    recall  f1-score   support\n",
      "\n",
      "        bias       0.82      0.82      0.82       916\n",
      "   clickbait       0.82      0.83      0.83       895\n",
      "  conspiracy       0.85      0.81      0.83       767\n",
      "        fake       0.92      0.87      0.90       829\n",
      "        hate       0.90      0.91      0.90       814\n",
      "     junksci       0.88      0.93      0.90       862\n",
      "   political       0.75      0.79      0.77       899\n",
      "       rumor       0.93      0.93      0.93       885\n",
      "      satire       0.85      0.84      0.85       871\n",
      "  unreliable       0.95      0.91      0.93       938\n",
      "\n",
      "    accuracy                           0.86      8676\n",
      "   macro avg       0.87      0.86      0.87      8676\n",
      "weighted avg       0.87      0.86      0.86      8676\n",
      "\n",
      "\n",
      "Top Misclassified Pairs:\n",
      "bias → political: 55 cases\n",
      "political → clickbait: 52 cases\n",
      "clickbait → political: 40 cases\n",
      "political → bias: 40 cases\n",
      "bias → clickbait: 33 cases\n"
     ]
    },
    {
     "data": {
      "image/png": "[encoded data removed]",
      "text/plain": [
       "<Figure size 800x500 with 1 Axes>"
      ]
     },
     "metadata": {},
     "output_type": "display_data"
    }
   ],
   "source": [
    "# ===== ADD THIS SECTION AFTER TRAINING =====\n",
    "# Get predictions and true labels\n",
    "true_labels, pred_labels = evaluate_with_confusion_matrix(sec_model, val_feature_dl)\n",
    "\n",
    "# Confusion Matrix\n",
    "class_names = le.classes_\n",
    "cm = confusion_matrix(true_labels, pred_labels)\n",
    "plt.figure(figsize=(10, 8))\n",
    "sns.heatmap(cm, annot=True, fmt='d', cmap='Blues', \n",
    "            xticklabels=class_names, yticklabels=class_names)\n",
    "plt.xlabel('Predicted')\n",
    "plt.ylabel('True')\n",
    "plt.title('Confusion Matrix')\n",
    "plt.show()\n",
    "\n",
    "# Classification Report\n",
    "print(classification_report(true_labels, pred_labels, target_names=class_names))\n",
    "\n",
    "# Top Misclassified Pairs\n",
    "errors = np.where(np.array(true_labels) != np.array(pred_labels))[0]\n",
    "misclassified_pairs = list(zip(np.array(true_labels)[errors], np.array(pred_labels)[errors]))\n",
    "top_misclassified = Counter(misclassified_pairs).most_common(5)\n",
    "print(\"\\nTop Misclassified Pairs:\")\n",
    "for (true, pred), count in top_misclassified:\n",
    "    print(f\"{class_names[true]} → {class_names[pred]}: {count} cases\")\n",
    "\n",
    "# Class Distribution Plot\n",
    "plt.figure(figsize=(8, 5))\n",
    "sns.countplot(x=true_labels)\n",
    "plt.xticks(ticks=range(len(class_names)), labels=class_names)\n",
    "plt.title('Class Distribution in Validation Set')\n",
    "plt.show()"
   ]
  }
 ],
 "metadata": {
  "kernelspec": {
   "display_name": "cs240env",
   "language": "python",
   "name": "python3"
  },
  "language_info": {
   "codemirror_mode": {
    "name": "ipython",
    "version": 3
   },
   "file_extension": ".py",
   "mimetype": "text/x-python",
   "name": "python",
   "nbconvert_exporter": "python",
   "pygments_lexer": "ipython3",
   "version": "3.11.11"
  }
 },
 "nbformat": 4,
 "nbformat_minor": 5
}
