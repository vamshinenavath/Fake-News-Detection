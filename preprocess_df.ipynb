{
 "cells": [
  {
   "cell_type": "code",
   "execution_count": null,
   "id": "ec239486",
   "metadata": {},
   "outputs": [
    {
     "data": {
      "text/html": [
       "<div>\n",
       "<style scoped>\n",
       "    .dataframe tbody tr th:only-of-type {\n",
       "        vertical-align: middle;\n",
       "    }\n",
       "\n",
       "    .dataframe tbody tr th {\n",
       "        vertical-align: top;\n",
       "    }\n",
       "\n",
       "    .dataframe thead th {\n",
       "        text-align: right;\n",
       "    }\n",
       "</style>\n",
       "<table border=\"1\" class=\"dataframe\">\n",
       "  <thead>\n",
       "    <tr style=\"text-align: right;\">\n",
       "      <th></th>\n",
       "      <th>type</th>\n",
       "      <th>title</th>\n",
       "      <th>content</th>\n",
       "    </tr>\n",
       "  </thead>\n",
       "  <tbody>\n",
       "    <tr>\n",
       "      <th>0</th>\n",
       "      <td>unknown</td>\n",
       "      <td>How to Perform Wudu By Sheikh Imran Hosein</td>\n",
       "      <td>Like\\n\\n0\\n\\nThanks!\\n\\nYou've already liked this</td>\n",
       "    </tr>\n",
       "    <tr>\n",
       "      <th>1</th>\n",
       "      <td>junksci</td>\n",
       "      <td>First Certified Organic Fast Food Restaurant t...</td>\n",
       "      <td>by ARIANA MARISOL\\n\\nFast food restaurants are...</td>\n",
       "    </tr>\n",
       "    <tr>\n",
       "      <th>2</th>\n",
       "      <td>reliable</td>\n",
       "      <td>UP polls: Parties say BJP setting agenda; vote...</td>\n",
       "      <td>India News UP polls: Parties say BJP setting a...</td>\n",
       "    </tr>\n",
       "    <tr>\n",
       "      <th>3</th>\n",
       "      <td>unknown</td>\n",
       "      <td>Contemplating a Jobless Society: I For One Wel...</td>\n",
       "      <td>- Advertisement -\\n\\nWriting in Reason magazin...</td>\n",
       "    </tr>\n",
       "    <tr>\n",
       "      <th>4</th>\n",
       "      <td>hate</td>\n",
       "      <td>UCLA Student Is Charged With Attempted Murder ...</td>\n",
       "      <td>A UCLA student allegedly stabbed a classmate f...</td>\n",
       "    </tr>\n",
       "  </tbody>\n",
       "</table>\n",
       "</div>"
      ],
      "text/plain": [
       "       type                                              title  \\\n",
       "0   unknown         How to Perform Wudu By Sheikh Imran Hosein   \n",
       "1   junksci  First Certified Organic Fast Food Restaurant t...   \n",
       "2  reliable  UP polls: Parties say BJP setting agenda; vote...   \n",
       "3   unknown  Contemplating a Jobless Society: I For One Wel...   \n",
       "4      hate  UCLA Student Is Charged With Attempted Murder ...   \n",
       "\n",
       "                                             content  \n",
       "0  Like\\n\\n0\\n\\nThanks!\\n\\nYou've already liked this  \n",
       "1  by ARIANA MARISOL\\n\\nFast food restaurants are...  \n",
       "2  India News UP polls: Parties say BJP setting a...  \n",
       "3  - Advertisement -\\n\\nWriting in Reason magazin...  \n",
       "4  A UCLA student allegedly stabbed a classmate f...  "
      ]
     },
     "execution_count": 1,
     "metadata": {},
     "output_type": "execute_result"
    }
   ],
   "source": [
    "import pandas as pd\n",
    "\n",
    "input_file = 'reduced_news.csv'\n",
    "output_file = 'news_data.csv'\n",
    "\n",
    "df = pd.read_csv(input_file, sep=',', encoding='utf-8')\n",
    "\n",
    "df.head()"
   ]
  },
  {
   "cell_type": "code",
   "execution_count": null,
   "id": "bdf0bd62",
   "metadata": {},
   "outputs": [],
   "source": [
    "# Define reliable and unreliable categories\n",
    "RELIABLE_TYPES = ['reliable', 'trusted', 'real', 'true']  # Add your actual reliable labels here\n",
    "UNRELIABLE_TYPES = ['fake', 'satire', 'bias', 'conspiracy', 'junksci', 'hate', 'clickbait']  # Add all unreliable types\n",
    "\n",
    "df = df[df['type'].notna() & (df['type'] != 'unknown')]\n",
    "df['label'] = df['type'].apply(lambda x: 0 if x in RELIABLE_TYPES else 1)\n",
    "df.head()"
   ]
  },
  {
   "cell_type": "code",
   "execution_count": null,
   "id": "21df6a05",
   "metadata": {},
   "outputs": [],
   "source": [
    "df.to_csv(output_file, index=False)"
   ]
  }
 ],
 "metadata": {
  "kernelspec": {
   "display_name": ".cs240project",
   "language": "python",
   "name": "python3"
  },
  "language_info": {
   "codemirror_mode": {
    "name": "ipython",
    "version": 3
   },
   "file_extension": ".py",
   "mimetype": "text/x-python",
   "name": "python",
   "nbconvert_exporter": "python",
   "pygments_lexer": "ipython3",
   "version": "3.12.3"
  }
 },
 "nbformat": 4,
 "nbformat_minor": 5
}
