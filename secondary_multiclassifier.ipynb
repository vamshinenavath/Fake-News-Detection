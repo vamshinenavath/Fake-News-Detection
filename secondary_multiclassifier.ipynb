{
 "cells": [
  {
   "cell_type": "code",
   "execution_count": 1,
   "id": "84d57234",
   "metadata": {},
   "outputs": [],
   "source": [
    "import pandas as pd\n",
    "import numpy as np"
   ]
  },
  {
   "cell_type": "code",
   "execution_count": 2,
   "id": "f8e63c54",
   "metadata": {},
   "outputs": [],
   "source": [
    "dataset_dir = \"datasets\"\n",
    "\n",
    "train_file = 'news_traindata'\n",
    "train_nrows = 110000 * 0.9\n",
    "train_df = pd.read_csv(f'{dataset_dir}/{train_file}.csv', encoding='utf-8', nrows=train_nrows)\n",
    "train_df = train_df.dropna()\n",
    "\n",
    "test_file = 'news_testdata'\n",
    "test_nrows = 110000 * 0.1\n",
    "test_df = pd.read_csv(f'{dataset_dir}/{test_file}.csv', encoding='utf-8', nrows=test_nrows)\n",
    "test_df = test_df.dropna()\n",
    "\n",
    "vocab_file = f'vocabs/vokab_{train_file}_{train_nrows}.pkl'\n",
    "model_file = f\"models/secondary_model_{train_file}_{train_nrows}.pth\"\n",
    "encoded_testfile = f\"encoded/secondary_{test_file}_{test_nrows}.pt\"\n",
    "encoded_trainfile = f\"encoded/secondary_{train_file}_{train_nrows}.pt\""
   ]
  },
  {
   "cell_type": "code",
   "execution_count": 3,
   "id": "81dec311",
   "metadata": {},
   "outputs": [],
   "source": [
    "train_df['content'] = train_df['title'].fillna('') + ' ' + train_df['content'].fillna('')\n",
    "test_df['content'] = test_df['title'].fillna('') + ' ' + test_df['content'].fillna('')"
   ]
  },
  {
   "cell_type": "code",
   "execution_count": 4,
   "id": "5931db84",
   "metadata": {},
   "outputs": [
    {
     "name": "stdout",
     "output_type": "stream",
     "text": [
      "Vocabulary loaded from vocabs/vokab_news_traindata_99000.0.pkl.\n"
     ]
    }
   ],
   "source": [
    "import os\n",
    "import pickle\n",
    "from torchtext.vocab import build_vocab_from_iterator\n",
    "from torchtext.data.utils import get_tokenizer\n",
    "from collections import Counter\n",
    "\n",
    "MAX_VOCAB = 50000\n",
    "special_tokens = ['<unk>', '<pad>']\n",
    "tokenizer = get_tokenizer('basic_english')\n",
    "\n",
    "def generate_vocabulary(df):\n",
    "    counter = Counter()\n",
    "    for text in df['content']:\n",
    "        if pd.notna(text):\n",
    "            counter.update(tokenizer(str(text)))\n",
    "    \n",
    "    most_common = [token for token, _ in counter.most_common(MAX_VOCAB - len(special_tokens))]\n",
    "    \n",
    "    vocab = build_vocab_from_iterator([most_common], specials=special_tokens)\n",
    "    vocab.set_default_index(vocab['<unk>'])\n",
    "\n",
    "    with open(vocab_file, 'wb') as f:\n",
    "        pickle.dump(vocab, f)\n",
    "    print(f\"Vocabulary saved to '{vocab_file}'.\")\n",
    "\n",
    "    return vocab\n",
    "\n",
    "\n",
    "if os.path.exists(vocab_file):\n",
    "    with open(vocab_file, 'rb') as f:\n",
    "        vocab = pickle.load(f)\n",
    "    print(f\"Vocabulary loaded from {vocab_file}.\")\n",
    "\n",
    "else:\n",
    "    vocab = generate_vocabulary(train_df)"
   ]
  },
  {
   "cell_type": "code",
   "execution_count": 5,
   "id": "738a7781",
   "metadata": {},
   "outputs": [],
   "source": [
    "train_df = train_df[train_df['label'] == 1]\n",
    "test_df = test_df[test_df['label'] == 1]"
   ]
  },
  {
   "cell_type": "code",
   "execution_count": 9,
   "id": "60341b38",
   "metadata": {},
   "outputs": [],
   "source": [
    "import torch\n",
    "from torch.nn.utils.rnn import pad_sequence\n",
    "from sklearn.preprocessing import LabelEncoder\n",
    "import torch.nn.functional as F\n",
    "\n",
    "MAX_LENGTH = 4096\n",
    "\n",
    "le = LabelEncoder()\n",
    "train_df['type_encoded'] = le.fit_transform(train_df['type'])\n",
    "test_df['type_encoded'] = le.transform(test_df['type'])\n",
    "NUM_CLASSES = len(le.classes_)\n",
    "\n",
    "def encode_text_secondary_model(vocab, df, encoded_file, le):\n",
    "    if os.path.exists(encoded_file):\n",
    "        data = torch.load(encoded_file)\n",
    "        encoded_texts = data['inputs']\n",
    "        labels = data['labels']\n",
    "        return encoded_texts, labels\n",
    "    \n",
    "    encoded_texts = []\n",
    "    labels = []\n",
    "\n",
    "    for text, label in zip(df['content'], df['type_encoded']):\n",
    "        if pd.notna(text):\n",
    "            encoded = [vocab[token] for token in tokenizer(text)]\n",
    "            \n",
    "            if len(encoded) <= MAX_LENGTH:  # Filter long sequences\n",
    "                encoded_texts.append(torch.tensor(encoded, dtype=torch.long))\n",
    "                labels.append(label)\n",
    "\n",
    "    encoded_texts = pad_sequence(encoded_texts, batch_first=True, padding_value=vocab['<pad>'])\n",
    "    labels = torch.tensor(labels, dtype=torch.long)\n",
    "    labels = F.one_hot(labels, num_classes=NUM_CLASSES).float()\n",
    "    torch.save({'inputs': encoded_texts, 'labels': labels}, encoded_file)\n",
    "\n",
    "\n",
    "    return encoded_texts, labels\n",
    "\n",
    "train_encoded_texts, train_labels = encode_text_secondary_model(vocab, train_df, encoded_trainfile, le)\n",
    "test_encoded_texts, test_labels = encode_text_secondary_model(vocab, test_df, encoded_testfile, le)"
   ]
  },
  {
   "cell_type": "code",
   "execution_count": 8,
   "id": "434fb0d3",
   "metadata": {},
   "outputs": [
    {
     "name": "stdout",
     "output_type": "stream",
     "text": [
      "tensor([0., 0., 0., 0., 0., 0., 0., 0., 1., 0.])\n"
     ]
    }
   ],
   "source": [
    "print(train_labels[0])"
   ]
  },
  {
   "cell_type": "code",
   "execution_count": 17,
   "id": "d388da03",
   "metadata": {},
   "outputs": [],
   "source": [
    "from torch.utils.data import Dataset, DataLoader\n",
    "from sklearn.model_selection import train_test_split\n",
    "\n",
    "\n",
    "class NewsDataset(Dataset):\n",
    "    def __init__(self, X, y):\n",
    "        self.X = X\n",
    "        self.y = y\n",
    "\n",
    "    def __len__(self):\n",
    "        return len(self.X)\n",
    "\n",
    "    def __getitem__(self, idx):\n",
    "        return self.X[idx], self.y[idx]\n",
    "\n",
    "\n",
    "train_ds = NewsDataset(train_encoded_texts, train_labels)\n",
    "val_ds = NewsDataset(test_encoded_texts[:500], test_labels[:500])\n",
    "\n",
    "train_dl = DataLoader(train_ds, batch_size=32, shuffle=True, pin_memory=True, num_workers=0)\n",
    "val_dl = DataLoader(val_ds, batch_size=32, num_workers=0)"
   ]
  },
  {
   "cell_type": "code",
   "execution_count": 18,
   "id": "a5216464",
   "metadata": {},
   "outputs": [
    {
     "name": "stdout",
     "output_type": "stream",
     "text": [
      "Using device: mps\n"
     ]
    }
   ],
   "source": [
    "from mulstage_model import CNN_BiLSTM\n",
    "from torch import nn\n",
    "\n",
    "\n",
    "# device = torch.device('cuda' if torch.cuda.is_available() else 'cpu')\n",
    "device = torch.device('mps' if torch.backends.mps.is_available() else 'cpu')\n",
    "# device = torch.device('cpu')\n",
    "\n",
    "print(f\"Using device: {device}\")\n",
    "\n",
    "model = CNN_BiLSTM(vocab=vocab, vocab_size=len(vocab), embed_dim=100, hidden_dim=128, output_dim=NUM_CLASSES, pad_idx=vocab['<pad>'])\n",
    "model.to(device)\n",
    "\n",
    "\n",
    "criterion = nn.CrossEntropyLoss()\n",
    "optimizer = torch.optim.Adam(model.parameters(), lr=1e-3)   "
   ]
  },
  {
   "cell_type": "code",
   "execution_count": 19,
   "id": "8d48745c",
   "metadata": {},
   "outputs": [
    {
     "name": "stdout",
     "output_type": "stream",
     "text": [
      "training\n"
     ]
    },
    {
     "name": "stderr",
     "output_type": "stream",
     "text": [
      "                                                             \r"
     ]
    },
    {
     "name": "stdout",
     "output_type": "stream",
     "text": [
      "Epoch 1, Loss: 1.7707, Val Acc: 0.7668\n"
     ]
    }
   ],
   "source": [
    "from tqdm import tqdm\n",
    "\n",
    "def train(model, loader):\n",
    "    model.train()\n",
    "    total_loss = 0\n",
    "    for xb, yb in tqdm(loader, desc=\"Training\", leave=False):\n",
    "        xb, yb = xb.to(device), yb.to(device)\n",
    "        optimizer.zero_grad()\n",
    "        preds = model(xb)\n",
    "        loss = criterion(preds, yb)\n",
    "        loss.backward()\n",
    "        optimizer.step()\n",
    "        total_loss += loss.item()\n",
    "    \n",
    "    return total_loss / len(loader)\n",
    "\n",
    "def evaluate(model, loader):\n",
    "    model.eval()\n",
    "    total_acc = 0\n",
    "    with torch.no_grad():\n",
    "        for xb, yb in loader:\n",
    "            xb, yb = xb.to(device), yb.to(device)\n",
    "            preds = model(xb)\n",
    "            preds_class = preds.argmax(dim=1)\n",
    "            labels_class = yb.argmax(dim=1)\n",
    "            total_acc += (preds_class == labels_class).float().mean().item()\n",
    "    \n",
    "    return total_acc / len(loader)\n",
    "\n",
    "print(\"training\")\n",
    "\n",
    "for epoch in range(1):\n",
    "    loss = train(model, train_dl)\n",
    "    acc = evaluate(model, val_dl)\n",
    "    print(f\"Epoch {epoch+1}, Loss: {loss:.4f}, Val Acc: {acc:.4f}\")"
   ]
  },
  {
   "cell_type": "code",
   "execution_count": 23,
   "id": "39ed7946",
   "metadata": {},
   "outputs": [],
   "source": [
    "# ===== ADD THESE IMPORTS =====\n",
    "from sklearn.metrics import confusion_matrix, classification_report\n",
    "import seaborn as sns\n",
    "import matplotlib.pyplot as plt\n",
    "import numpy as np\n",
    "from collections import Counter"
   ]
  },
  {
   "cell_type": "code",
   "execution_count": null,
   "id": "7dea5c91",
   "metadata": {},
   "outputs": [
    {
     "name": "stdout",
     "output_type": "stream",
     "text": [
      "Using device: mps\n",
      "done constructing model\n",
      "done constructing optimizer\n",
      "Precomputing features for training set...\n"
     ]
    },
    {
     "name": "stderr",
     "output_type": "stream",
     "text": [
      "Precomputing features: 100%|██████████| 2441/2441 [03:37<00:00, 11.23it/s]\n"
     ]
    },
    {
     "name": "stdout",
     "output_type": "stream",
     "text": [
      "Training features shape: torch.Size([78081, 556])\n",
      "Precomputing features for validation set...\n"
     ]
    },
    {
     "name": "stderr",
     "output_type": "stream",
     "text": [
      "Precomputing features: 100%|██████████| 272/272 [00:26<00:00, 10.37it/s]"
     ]
    },
    {
     "name": "stdout",
     "output_type": "stream",
     "text": [
      "Validation features shape: torch.Size([8676, 556])\n"
     ]
    },
    {
     "name": "stderr",
     "output_type": "stream",
     "text": [
      "\n"
     ]
    }
   ],
   "source": [
    "\n",
    "# # add these so that the SVC model from the file imports\n",
    "# from sklearn.svm import SVC\n",
    "# from sklearn.preprocessing import LabelEncoder\n",
    "# # \n",
    "\n",
    "# from mulstage_model import CNN_BiLSTM, FakeNewsClassifier\n",
    "# from mulstage_model import SVM_Classifier\n",
    "# import torch.nn as nn\n",
    "\n",
    "# svm_classifier = False\n",
    "\n",
    "# # device = torch.device('cuda' if torch.cuda.is_available() else 'cpu')\n",
    "# device = torch.device('mps' if torch.backends.mps.is_available() else 'cpu')\n",
    "# print(f\"Using device: {device}\")\n",
    "# sec_model = FakeNewsClassifier(input_dim= 100 * 3 + 128 * 2, num_classes=NUM_CLASSES)\n",
    "# #sec_model = SVM_Classifier(kernel='rbf', C=1.0)\n",
    "# sec_model.to(device)\n",
    "\n",
    "# pri_model = CNN_BiLSTM(vocab=vocab, vocab_size=len(vocab), embed_dim=100, hidden_dim=128, output_dim=1, pad_idx=vocab['<pad>'])\n",
    "# pri_model.to(device)\n",
    "\n",
    "# #pri_model.load_state_dict(torch.load(f\"model_news_data_bin_{nrows}.pth\", map_location=torch.device('cpu')))\n",
    "# model_path = os.path.abspath(pri_model_file)\n",
    "# pri_model.load_state_dict(torch.load(model_path, map_location=torch.device('cpu')))\n",
    "\n",
    "# print(\"done constructing model\")\n",
    "\n",
    "\n",
    "# criterion = nn.CrossEntropyLoss()\n",
    "# optimizer = torch.optim.Adam(sec_model.parameters(), lr=1e-3)   \n",
    "\n",
    "# print(\"done constructing optimizer\")\n",
    "# import torch\n",
    "# from tqdm import tqdm\n",
    "\n",
    "# # Modify the extract_features function to collect all features\n",
    "# def precompute_features(model, dataloader):\n",
    "#     \"\"\"\n",
    "#     Precompute features from the primary model for all samples in the dataloader\n",
    "#     Returns:\n",
    "#         all_features: tensor of shape [num_samples, feature_dim]\n",
    "#         all_labels: tensor of shape [num_samples]\n",
    "#     \"\"\"\n",
    "#     model.eval()  # Set model to evaluation mode\n",
    "#     all_features = []\n",
    "#     all_labels = []\n",
    "    \n",
    "#     with torch.no_grad():\n",
    "#         for xb, yb in tqdm(dataloader, desc=\"Precomputing features\"):\n",
    "#             xb, yb = xb.to(device), yb.to(device)\n",
    "#             features = model.extract_features(xb)\n",
    "#             all_features.append(features)\n",
    "#             all_labels.append(yb)\n",
    "    \n",
    "#     # Concatenate all features and labels\n",
    "#     all_features = torch.cat(all_features, dim=0)\n",
    "#     all_labels = torch.cat(all_labels, dim=0)\n",
    "    \n",
    "#     return all_features, all_labels\n",
    "\n",
    "# # Create a dataset class for precomputed features\n",
    "# class PrecomputedFeatureDataset(torch.utils.data.Dataset):\n",
    "#     def __init__(self, features, labels):\n",
    "#         self.features = features\n",
    "#         self.labels = labels\n",
    "    \n",
    "#     def __len__(self):\n",
    "#         return len(self.labels)\n",
    "    \n",
    "#     def __getitem__(self, idx):\n",
    "#         return self.features[idx], self.labels[idx]\n",
    "\n",
    "# # Precompute features for training and validation sets\n",
    "# print(\"Precomputing features for training set...\")\n",
    "# train_features, train_labels = precompute_features(pri_model, train_dl)\n",
    "# print(f\"Training features shape: {train_features.shape}\")\n",
    "\n",
    "# print(\"Precomputing features for validation set...\")\n",
    "# val_features, val_labels = precompute_features(pri_model, val_dl)\n",
    "# print(f\"Validation features shape: {val_features.shape}\")\n",
    "\n",
    "# # Create datasets and dataloaders for precomputed features\n",
    "# train_feature_dataset = PrecomputedFeatureDataset(train_features, train_labels)\n",
    "# val_feature_dataset = PrecomputedFeatureDataset(val_features, val_labels)\n",
    "\n",
    "# # Define batch size for the new dataloader (can be different than original)\n",
    "# batch_size = 64  # Adjust according to your needs\n",
    "\n",
    "# train_feature_dl = torch.utils.data.DataLoader(\n",
    "#     train_feature_dataset, \n",
    "#     batch_size=batch_size,\n",
    "#     shuffle=True\n",
    "# )\n",
    "\n",
    "# val_feature_dl = torch.utils.data.DataLoader(\n",
    "#     val_feature_dataset, \n",
    "#     batch_size=batch_size,\n",
    "#     shuffle=False\n",
    "# )\n",
    "\n",
    "# # Now modify the training function to use precomputed features\n",
    "# def train_with_precomputed(sec_model, loader):\n",
    "#     sec_model.train()\n",
    "#     total_loss = 0\n",
    "    \n",
    "#     for features, labels in tqdm(loader, desc=\"Training\", leave=False):\n",
    "#         features, labels = features.to(device), labels.to(device)\n",
    "        \n",
    "#         optimizer.zero_grad()\n",
    "#         preds = sec_model(features)\n",
    "#         loss = criterion(preds, labels)\n",
    "#         loss.backward()\n",
    "#         optimizer.step()\n",
    "        \n",
    "#         total_loss += loss.item()\n",
    "    \n",
    "#     return total_loss / len(loader)\n",
    "\n",
    "\n",
    "# # def evaluate_with_precomputed(sec_model, loader):\n",
    "# #     sec_model.eval()\n",
    "# #     total_acc = 0\n",
    "    \n",
    "# #     with torch.no_grad():\n",
    "# #         for features, labels in loader:\n",
    "# #             features, labels = features.to(device), labels.to(device)\n",
    "            \n",
    "# #             preds = sec_model(features)\n",
    "# #             preds_class = preds.argmax(dim=1)\n",
    "# #             labels_class = labels.argmax(dim=1)\n",
    "            \n",
    "# #             total_acc += (preds_class == labels_class).float().mean().item()\n",
    "    \n",
    "# #     return total_acc / len(loader)\n",
    "\n",
    "# def evaluate_with_confusion_matrix(sec_model, loader):\n",
    "#     sec_model.eval()\n",
    "#     all_preds = []\n",
    "#     all_labels = []\n",
    "    \n",
    "#     with torch.no_grad():\n",
    "#         for features, labels in loader:\n",
    "#             features, labels = features.to(device), labels.to(device)\n",
    "#             preds = sec_model(features)\n",
    "#             preds_class = preds.argmax(dim=1)\n",
    "#             labels_class = labels.argmax(dim=1)\n",
    "#             all_preds.extend(preds_class.cpu().numpy())\n",
    "#             all_labels.extend(labels_class.cpu().numpy())\n",
    "    \n",
    "#     return all_labels, all_preds\n",
    "\n",
    "# def calculate_accuracy(sec_model, loader):\n",
    "#     all_labels, all_preds = evaluate_with_confusion_matrix(sec_model, loader)\n",
    "#     return (np.array(all_labels) == np.array(all_preds)).mean()\n",
    "\n",
    "# # -----------------   For SVM Classifier -----------------\n",
    "\n",
    "# # def train_with_precomputed(sec_model, loader):\n",
    "# #     sec_model.train()  # Set the model to training mode\n",
    "# #     all_features = []\n",
    "# #     all_labels = []\n",
    "\n",
    "# #     for features, labels in tqdm(loader, desc=\"Training\", leave=False):\n",
    "# #         # Ensure on CPU\n",
    "# #         features = features.cpu()\n",
    "# #         labels = labels.argmax(dim=1).cpu()  # For multi-class SVM\n",
    "\n",
    "# #         all_features.append(features)\n",
    "# #         all_labels.append(labels)\n",
    "\n",
    "# #     all_features = torch.cat(all_features, dim=0).numpy()\n",
    "# #     all_labels = torch.cat(all_labels, dim=0).numpy()\n",
    "\n",
    "# #     sec_model.fit(all_features, all_labels)\n",
    "\n",
    "\n",
    "# # def evaluate_with_confusion_matrix(sec_model, loader):\n",
    "# #     all_preds = []\n",
    "# #     all_labels = []\n",
    "\n",
    "# #     for features, labels in loader:\n",
    "# #         features = features.cpu().numpy()\n",
    "# #         labels = labels.argmax(dim=1).cpu().numpy()\n",
    "\n",
    "# #         preds = sec_model.predict(features)\n",
    "\n",
    "# #         all_preds.extend(preds)\n",
    "# #         all_labels.extend(labels)\n",
    "\n",
    "# #     return all_labels, all_preds\n",
    "\n",
    "# # def calculate_accuracy(sec_model, loader):\n",
    "# #     all_labels, all_preds = evaluate_with_confusion_matrix(sec_model, loader)\n",
    "# #     return (np.array(all_labels) == np.array(all_preds)).mean()\n",
    "\n"
   ]
  },
  {
   "cell_type": "code",
   "execution_count": 29,
   "id": "c261f583",
   "metadata": {},
   "outputs": [
    {
     "name": "stdout",
     "output_type": "stream",
     "text": [
      "Using device: mps\n",
      "done constructing model\n",
      "done constructing optimizer\n",
      "Precomputing features for training set...\n"
     ]
    },
    {
     "name": "stderr",
     "output_type": "stream",
     "text": [
      "Precomputing features: 100%|██████████| 2441/2441 [03:34<00:00, 11.40it/s]\n"
     ]
    },
    {
     "name": "stdout",
     "output_type": "stream",
     "text": [
      "Training features shape: torch.Size([78081, 556])\n",
      "Precomputing features for validation set...\n"
     ]
    },
    {
     "name": "stderr",
     "output_type": "stream",
     "text": [
      "Precomputing features: 100%|██████████| 272/272 [00:28<00:00,  9.46it/s]"
     ]
    },
    {
     "name": "stdout",
     "output_type": "stream",
     "text": [
      "Validation features shape: torch.Size([8676, 556])\n"
     ]
    },
    {
     "name": "stderr",
     "output_type": "stream",
     "text": [
      "\n"
     ]
    }
   ],
   "source": [
    "from mulstage_model import CNN_BiLSTM, FakeNewsClassifier\n",
    "import torch.nn as nn\n",
    "\n",
    "# device = torch.device('cuda' if torch.cuda.is_available() else 'cpu')\n",
    "device = torch.device('mps' if torch.backends.mps.is_available() else 'cpu')\n",
    "print(f\"Using device: {device}\")\n",
    "sec_model = FakeNewsClassifier(input_dim= 100 * 3 + 128 * 2, num_classes=NUM_CLASSES)\n",
    "sec_model.to(device)\n",
    "\n",
    "pri_model = CNN_BiLSTM(vocab=vocab, vocab_size=len(vocab), embed_dim=100, hidden_dim=128, output_dim=1, pad_idx=vocab['<pad>'])\n",
    "pri_model.to(device)\n",
    "\n",
    "#pri_model.load_state_dict(torch.load(f\"model_news_data_bin_{nrows}.pth\", map_location=torch.device('cpu')))\n",
    "model_path = os.path.abspath(pri_model_file)\n",
    "pri_model.load_state_dict(torch.load(model_path, map_location=torch.device('cpu')))\n",
    "\n",
    "print(\"done constructing model\")\n",
    "\n",
    "criterion = nn.CrossEntropyLoss()\n",
    "optimizer = torch.optim.Adam(sec_model.parameters(), lr=1e-3)   \n",
    "\n",
    "print(\"done constructing optimizer\")\n",
    "import torch\n",
    "from tqdm import tqdm\n",
    "\n",
    "# Modify the extract_features function to collect all features\n",
    "def precompute_features(model, dataloader):\n",
    "    \"\"\"\n",
    "    Precompute features from the primary model for all samples in the dataloader\n",
    "    Returns:\n",
    "        all_features: tensor of shape [num_samples, feature_dim]\n",
    "        all_labels: tensor of shape [num_samples]\n",
    "    \"\"\"\n",
    "    model.eval()  # Set model to evaluation mode\n",
    "    all_features = []\n",
    "    all_labels = []\n",
    "    \n",
    "    with torch.no_grad():\n",
    "        for xb, yb in tqdm(dataloader, desc=\"Precomputing features\"):\n",
    "            xb, yb = xb.to(device), yb.to(device)\n",
    "            features = model.extract_features(xb)\n",
    "            all_features.append(features)\n",
    "            all_labels.append(yb)\n",
    "    \n",
    "    # Concatenate all features and labels\n",
    "    all_features = torch.cat(all_features, dim=0)\n",
    "    all_labels = torch.cat(all_labels, dim=0)\n",
    "    \n",
    "    return all_features, all_labels\n",
    "\n",
    "# Create a dataset class for precomputed features\n",
    "class PrecomputedFeatureDataset(torch.utils.data.Dataset):\n",
    "    def __init__(self, features, labels):\n",
    "        self.features = features\n",
    "        self.labels = labels\n",
    "    \n",
    "    def __len__(self):\n",
    "        return len(self.labels)\n",
    "    \n",
    "    def __getitem__(self, idx):\n",
    "        return self.features[idx], self.labels[idx]\n",
    "\n",
    "# Precompute features for training and validation sets\n",
    "print(\"Precomputing features for training set...\")\n",
    "train_features, train_labels = precompute_features(pri_model, train_dl)\n",
    "print(f\"Training features shape: {train_features.shape}\")\n",
    "\n",
    "print(\"Precomputing features for validation set...\")\n",
    "val_features, val_labels = precompute_features(pri_model, val_dl)\n",
    "print(f\"Validation features shape: {val_features.shape}\")\n",
    "\n",
    "# Create datasets and dataloaders for precomputed features\n",
    "train_feature_dataset = PrecomputedFeatureDataset(train_features, train_labels)\n",
    "val_feature_dataset = PrecomputedFeatureDataset(val_features, val_labels)\n",
    "\n",
    "# Define batch size for the new dataloader (can be different than original)\n",
    "batch_size = 64  # Adjust according to your needs\n",
    "\n",
    "train_feature_dl = torch.utils.data.DataLoader(\n",
    "    train_feature_dataset, \n",
    "    batch_size=batch_size,\n",
    "    shuffle=True\n",
    ")\n",
    "\n",
    "val_feature_dl = torch.utils.data.DataLoader(\n",
    "    val_feature_dataset, \n",
    "    batch_size=batch_size,\n",
    "    shuffle=False\n",
    ")\n",
    "\n",
    "# Now modify the training function to use precomputed features\n",
    "def train_with_precomputed(sec_model, loader):\n",
    "    sec_model.train()\n",
    "    total_loss = 0\n",
    "    \n",
    "    for features, labels in tqdm(loader, desc=\"Training\", leave=False):\n",
    "        features, labels = features.to(device), labels.to(device)\n",
    "        \n",
    "        optimizer.zero_grad()\n",
    "        preds = sec_model(features)\n",
    "        loss = criterion(preds, labels)\n",
    "        loss.backward()\n",
    "        optimizer.step()\n",
    "        \n",
    "        total_loss += loss.item()\n",
    "    \n",
    "    return total_loss / len(loader)\n",
    "\n",
    "# def evaluate_with_precomputed(sec_model, loader):\n",
    "#     sec_model.eval()\n",
    "#     total_acc = 0\n",
    "    \n",
    "#     with torch.no_grad():\n",
    "#         for features, labels in loader:\n",
    "#             features, labels = features.to(device), labels.to(device)\n",
    "            \n",
    "#             preds = sec_model(features)\n",
    "#             preds_class = preds.argmax(dim=1)\n",
    "#             labels_class = labels.argmax(dim=1)\n",
    "            \n",
    "#             total_acc += (preds_class == labels_class).float().mean().item()\n",
    "    \n",
    "#     return total_acc / len(loader)\n",
    "\n",
    "def evaluate_with_confusion_matrix(sec_model, loader):\n",
    "    sec_model.eval()\n",
    "    all_preds = []\n",
    "    all_labels = []\n",
    "    \n",
    "    with torch.no_grad():\n",
    "        for features, labels in loader:\n",
    "            features, labels = features.to(device), labels.to(device)\n",
    "            preds = sec_model(features)\n",
    "            preds_class = preds.argmax(dim=1)\n",
    "            labels_class = labels.argmax(dim=1)\n",
    "            all_preds.extend(preds_class.cpu().numpy())\n",
    "            all_labels.extend(labels_class.cpu().numpy())\n",
    "    \n",
    "    return all_labels, all_preds\n",
    "\n",
    "def calculate_accuracy(sec_model, loader):\n",
    "    all_labels, all_preds = evaluate_with_confusion_matrix(sec_model, loader)\n",
    "    return (np.array(all_labels) == np.array(all_preds)).mean()\n"
   ]
  },
  {
   "cell_type": "code",
   "execution_count": 34,
   "id": "8883cde4",
   "metadata": {},
   "outputs": [
    {
     "name": "stdout",
     "output_type": "stream",
     "text": [
      "Training with precomputed features\n"
     ]
    },
    {
     "name": "stderr",
     "output_type": "stream",
     "text": [
      "                                                  \r"
     ]
    },
    {
     "ename": "RuntimeError",
     "evalue": "linear(): input and weight.T shapes cannot be multiplied (64x256 and 512x128)",
     "output_type": "error",
     "traceback": [
      "\u001b[31m---------------------------------------------------------------------------\u001b[39m",
      "\u001b[31mRuntimeError\u001b[39m                              Traceback (most recent call last)",
      "\u001b[36mCell\u001b[39m\u001b[36m \u001b[39m\u001b[32mIn[34]\u001b[39m\u001b[32m, line 4\u001b[39m\n\u001b[32m      2\u001b[39m \u001b[38;5;28mprint\u001b[39m(\u001b[33m\"\u001b[39m\u001b[33mTraining with precomputed features\u001b[39m\u001b[33m\"\u001b[39m)\n\u001b[32m      3\u001b[39m \u001b[38;5;28;01mfor\u001b[39;00m epoch \u001b[38;5;129;01min\u001b[39;00m \u001b[38;5;28mrange\u001b[39m(\u001b[32m200\u001b[39m):\n\u001b[32m----> \u001b[39m\u001b[32m4\u001b[39m     loss = \u001b[43mtrain_with_precomputed\u001b[49m\u001b[43m(\u001b[49m\u001b[43msec_model\u001b[49m\u001b[43m,\u001b[49m\u001b[43m \u001b[49m\u001b[43mtrain_feature_dl\u001b[49m\u001b[43m)\u001b[49m\n\u001b[32m      5\u001b[39m     acc = calculate_accuracy(sec_model, val_feature_dl)\n\u001b[32m      6\u001b[39m     \u001b[38;5;28;01mif\u001b[39;00m (epoch + \u001b[32m1\u001b[39m) % \u001b[32m10\u001b[39m == \u001b[32m0\u001b[39m:\n",
      "\u001b[36mCell\u001b[39m\u001b[36m \u001b[39m\u001b[32mIn[29]\u001b[39m\u001b[32m, line 100\u001b[39m, in \u001b[36mtrain_with_precomputed\u001b[39m\u001b[34m(sec_model, loader)\u001b[39m\n\u001b[32m     97\u001b[39m features, labels = features.to(device), labels.to(device)\n\u001b[32m     99\u001b[39m optimizer.zero_grad()\n\u001b[32m--> \u001b[39m\u001b[32m100\u001b[39m preds = \u001b[43msec_model\u001b[49m\u001b[43m(\u001b[49m\u001b[43mfeatures\u001b[49m\u001b[43m)\u001b[49m\n\u001b[32m    101\u001b[39m loss = criterion(preds, labels)\n\u001b[32m    102\u001b[39m loss.backward()\n",
      "\u001b[36mFile \u001b[39m\u001b[32m~/miniconda3/envs/cs240env/lib/python3.11/site-packages/torch/nn/modules/module.py:1511\u001b[39m, in \u001b[36mModule._wrapped_call_impl\u001b[39m\u001b[34m(self, *args, **kwargs)\u001b[39m\n\u001b[32m   1509\u001b[39m     \u001b[38;5;28;01mreturn\u001b[39;00m \u001b[38;5;28mself\u001b[39m._compiled_call_impl(*args, **kwargs)  \u001b[38;5;66;03m# type: ignore[misc]\u001b[39;00m\n\u001b[32m   1510\u001b[39m \u001b[38;5;28;01melse\u001b[39;00m:\n\u001b[32m-> \u001b[39m\u001b[32m1511\u001b[39m     \u001b[38;5;28;01mreturn\u001b[39;00m \u001b[38;5;28;43mself\u001b[39;49m\u001b[43m.\u001b[49m\u001b[43m_call_impl\u001b[49m\u001b[43m(\u001b[49m\u001b[43m*\u001b[49m\u001b[43margs\u001b[49m\u001b[43m,\u001b[49m\u001b[43m \u001b[49m\u001b[43m*\u001b[49m\u001b[43m*\u001b[49m\u001b[43mkwargs\u001b[49m\u001b[43m)\u001b[49m\n",
      "\u001b[36mFile \u001b[39m\u001b[32m~/miniconda3/envs/cs240env/lib/python3.11/site-packages/torch/nn/modules/module.py:1520\u001b[39m, in \u001b[36mModule._call_impl\u001b[39m\u001b[34m(self, *args, **kwargs)\u001b[39m\n\u001b[32m   1515\u001b[39m \u001b[38;5;66;03m# If we don't have any hooks, we want to skip the rest of the logic in\u001b[39;00m\n\u001b[32m   1516\u001b[39m \u001b[38;5;66;03m# this function, and just call forward.\u001b[39;00m\n\u001b[32m   1517\u001b[39m \u001b[38;5;28;01mif\u001b[39;00m \u001b[38;5;129;01mnot\u001b[39;00m (\u001b[38;5;28mself\u001b[39m._backward_hooks \u001b[38;5;129;01mor\u001b[39;00m \u001b[38;5;28mself\u001b[39m._backward_pre_hooks \u001b[38;5;129;01mor\u001b[39;00m \u001b[38;5;28mself\u001b[39m._forward_hooks \u001b[38;5;129;01mor\u001b[39;00m \u001b[38;5;28mself\u001b[39m._forward_pre_hooks\n\u001b[32m   1518\u001b[39m         \u001b[38;5;129;01mor\u001b[39;00m _global_backward_pre_hooks \u001b[38;5;129;01mor\u001b[39;00m _global_backward_hooks\n\u001b[32m   1519\u001b[39m         \u001b[38;5;129;01mor\u001b[39;00m _global_forward_hooks \u001b[38;5;129;01mor\u001b[39;00m _global_forward_pre_hooks):\n\u001b[32m-> \u001b[39m\u001b[32m1520\u001b[39m     \u001b[38;5;28;01mreturn\u001b[39;00m \u001b[43mforward_call\u001b[49m\u001b[43m(\u001b[49m\u001b[43m*\u001b[49m\u001b[43margs\u001b[49m\u001b[43m,\u001b[49m\u001b[43m \u001b[49m\u001b[43m*\u001b[49m\u001b[43m*\u001b[49m\u001b[43mkwargs\u001b[49m\u001b[43m)\u001b[49m\n\u001b[32m   1522\u001b[39m \u001b[38;5;28;01mtry\u001b[39;00m:\n\u001b[32m   1523\u001b[39m     result = \u001b[38;5;28;01mNone\u001b[39;00m\n",
      "\u001b[36mFile \u001b[39m\u001b[32m~/CS240_Project/mulstage_model.py:144\u001b[39m, in \u001b[36mFakeNewsClassifier.forward\u001b[39m\u001b[34m(self, features)\u001b[39m\n\u001b[32m    141\u001b[39m x = \u001b[38;5;28mself\u001b[39m.dropout2(x)\n\u001b[32m    143\u001b[39m \u001b[38;5;66;03m# Final output layer\u001b[39;00m\n\u001b[32m--> \u001b[39m\u001b[32m144\u001b[39m x = \u001b[38;5;28;43mself\u001b[39;49m\u001b[43m.\u001b[49m\u001b[43mfc3\u001b[49m\u001b[43m(\u001b[49m\u001b[43mx\u001b[49m\u001b[43m)\u001b[49m\n\u001b[32m    145\u001b[39m x = \u001b[38;5;28mself\u001b[39m.relu3(x)\n\u001b[32m    146\u001b[39m x = \u001b[38;5;28mself\u001b[39m.dropout3(x)\n",
      "\u001b[36mFile \u001b[39m\u001b[32m~/miniconda3/envs/cs240env/lib/python3.11/site-packages/torch/nn/modules/module.py:1511\u001b[39m, in \u001b[36mModule._wrapped_call_impl\u001b[39m\u001b[34m(self, *args, **kwargs)\u001b[39m\n\u001b[32m   1509\u001b[39m     \u001b[38;5;28;01mreturn\u001b[39;00m \u001b[38;5;28mself\u001b[39m._compiled_call_impl(*args, **kwargs)  \u001b[38;5;66;03m# type: ignore[misc]\u001b[39;00m\n\u001b[32m   1510\u001b[39m \u001b[38;5;28;01melse\u001b[39;00m:\n\u001b[32m-> \u001b[39m\u001b[32m1511\u001b[39m     \u001b[38;5;28;01mreturn\u001b[39;00m \u001b[38;5;28;43mself\u001b[39;49m\u001b[43m.\u001b[49m\u001b[43m_call_impl\u001b[49m\u001b[43m(\u001b[49m\u001b[43m*\u001b[49m\u001b[43margs\u001b[49m\u001b[43m,\u001b[49m\u001b[43m \u001b[49m\u001b[43m*\u001b[49m\u001b[43m*\u001b[49m\u001b[43mkwargs\u001b[49m\u001b[43m)\u001b[49m\n",
      "\u001b[36mFile \u001b[39m\u001b[32m~/miniconda3/envs/cs240env/lib/python3.11/site-packages/torch/nn/modules/module.py:1520\u001b[39m, in \u001b[36mModule._call_impl\u001b[39m\u001b[34m(self, *args, **kwargs)\u001b[39m\n\u001b[32m   1515\u001b[39m \u001b[38;5;66;03m# If we don't have any hooks, we want to skip the rest of the logic in\u001b[39;00m\n\u001b[32m   1516\u001b[39m \u001b[38;5;66;03m# this function, and just call forward.\u001b[39;00m\n\u001b[32m   1517\u001b[39m \u001b[38;5;28;01mif\u001b[39;00m \u001b[38;5;129;01mnot\u001b[39;00m (\u001b[38;5;28mself\u001b[39m._backward_hooks \u001b[38;5;129;01mor\u001b[39;00m \u001b[38;5;28mself\u001b[39m._backward_pre_hooks \u001b[38;5;129;01mor\u001b[39;00m \u001b[38;5;28mself\u001b[39m._forward_hooks \u001b[38;5;129;01mor\u001b[39;00m \u001b[38;5;28mself\u001b[39m._forward_pre_hooks\n\u001b[32m   1518\u001b[39m         \u001b[38;5;129;01mor\u001b[39;00m _global_backward_pre_hooks \u001b[38;5;129;01mor\u001b[39;00m _global_backward_hooks\n\u001b[32m   1519\u001b[39m         \u001b[38;5;129;01mor\u001b[39;00m _global_forward_hooks \u001b[38;5;129;01mor\u001b[39;00m _global_forward_pre_hooks):\n\u001b[32m-> \u001b[39m\u001b[32m1520\u001b[39m     \u001b[38;5;28;01mreturn\u001b[39;00m \u001b[43mforward_call\u001b[49m\u001b[43m(\u001b[49m\u001b[43m*\u001b[49m\u001b[43margs\u001b[49m\u001b[43m,\u001b[49m\u001b[43m \u001b[49m\u001b[43m*\u001b[49m\u001b[43m*\u001b[49m\u001b[43mkwargs\u001b[49m\u001b[43m)\u001b[49m\n\u001b[32m   1522\u001b[39m \u001b[38;5;28;01mtry\u001b[39;00m:\n\u001b[32m   1523\u001b[39m     result = \u001b[38;5;28;01mNone\u001b[39;00m\n",
      "\u001b[36mFile \u001b[39m\u001b[32m~/miniconda3/envs/cs240env/lib/python3.11/site-packages/torch/nn/modules/linear.py:116\u001b[39m, in \u001b[36mLinear.forward\u001b[39m\u001b[34m(self, input)\u001b[39m\n\u001b[32m    115\u001b[39m \u001b[38;5;28;01mdef\u001b[39;00m\u001b[38;5;250m \u001b[39m\u001b[34mforward\u001b[39m(\u001b[38;5;28mself\u001b[39m, \u001b[38;5;28minput\u001b[39m: Tensor) -> Tensor:\n\u001b[32m--> \u001b[39m\u001b[32m116\u001b[39m     \u001b[38;5;28;01mreturn\u001b[39;00m \u001b[43mF\u001b[49m\u001b[43m.\u001b[49m\u001b[43mlinear\u001b[49m\u001b[43m(\u001b[49m\u001b[38;5;28;43minput\u001b[39;49m\u001b[43m,\u001b[49m\u001b[43m \u001b[49m\u001b[38;5;28;43mself\u001b[39;49m\u001b[43m.\u001b[49m\u001b[43mweight\u001b[49m\u001b[43m,\u001b[49m\u001b[43m \u001b[49m\u001b[38;5;28;43mself\u001b[39;49m\u001b[43m.\u001b[49m\u001b[43mbias\u001b[49m\u001b[43m)\u001b[49m\n",
      "\u001b[31mRuntimeError\u001b[39m: linear(): input and weight.T shapes cannot be multiplied (64x256 and 512x128)"
     ]
    }
   ],
   "source": [
    "\n",
    "# Training loop using precomputed features\n",
    "print(\"Training with precomputed features\")\n",
    "for epoch in range(200):\n",
    "    loss = train_with_precomputed(sec_model, train_feature_dl)\n",
    "    acc = calculate_accuracy(sec_model, val_feature_dl)\n",
    "    if (epoch + 1) % 10 == 0:\n",
    "        print(f\"Epoch {epoch+1}, Loss: {loss:.4f}, Val Acc: {acc:.4f}\")\n",
    "\n",
    "# print(\"Training with precomputed features\")\n",
    "#     # Train the SVM model with precomputed features\n",
    "# train_with_precomputed(sec_model, train_feature_dl)  # Fit the SVM to the features\n",
    "# acc = calculate_accuracy(sec_model, val_feature_dl)\n",
    "# print(f\"Epoch {1}, Val Acc: {acc:.4f}\")"
   ]
  },
  {
   "cell_type": "code",
   "execution_count": null,
   "id": "e8c4c10e",
   "metadata": {},
   "outputs": [
    {
     "data": {
      "image/png": "[encoded data removed]",
      "text/plain": [
       "<Figure size 1000x800 with 2 Axes>"
      ]
     },
     "metadata": {},
     "output_type": "display_data"
    },
    {
     "name": "stdout",
     "output_type": "stream",
     "text": [
      "              precision    recall  f1-score   support\n",
      "\n",
      "        bias       0.54      0.50      0.52        90\n",
      "   clickbait       0.50      0.39      0.44        93\n",
      "  conspiracy       0.46      0.48      0.47        81\n",
      "        fake       0.87      0.80      0.83        83\n",
      "        hate       0.77      0.70      0.73       102\n",
      "     junksci       0.63      0.74      0.68        82\n",
      "   political       0.48      0.55      0.51       100\n",
      "       rumor       0.66      0.73      0.70        83\n",
      "      satire       0.51      0.57      0.54        82\n",
      "  unreliable       0.82      0.75      0.78        83\n",
      "\n",
      "    accuracy                           0.62       879\n",
      "   macro avg       0.62      0.62      0.62       879\n",
      "weighted avg       0.62      0.62      0.62       879\n",
      "\n",
      "\n",
      "Top Misclassified Pairs:\n",
      "clickbait → political: 18 cases\n",
      "clickbait → satire: 12 cases\n",
      "conspiracy → junksci: 10 cases\n",
      "bias → rumor: 10 cases\n",
      "political → bias: 8 cases\n"
     ]
    },
    {
     "data": {
      "image/png": "[encoded data removed]",
      "text/plain": [
       "<Figure size 800x500 with 1 Axes>"
      ]
     },
     "metadata": {},
     "output_type": "display_data"
    }
   ],
   "source": [
    "# ===== ADD THIS SECTION AFTER TRAINING =====\n",
    "# Get predictions and true labels\n",
    "true_labels, pred_labels = evaluate_with_confusion_matrix(sec_model, val_feature_dl)\n",
    "\n",
    "# Confusion Matrix\n",
    "class_names = le.classes_\n",
    "cm = confusion_matrix(true_labels, pred_labels)\n",
    "plt.figure(figsize=(10, 8))\n",
    "sns.heatmap(cm, annot=True, fmt='d', cmap='Blues', \n",
    "            xticklabels=class_names, yticklabels=class_names)\n",
    "plt.xlabel('Predicted')\n",
    "plt.ylabel('True')\n",
    "plt.title('Confusion Matrix')\n",
    "plt.show()\n",
    "\n",
    "# Classification Report\n",
    "print(classification_report(true_labels, pred_labels, target_names=class_names))\n",
    "\n",
    "# Top Misclassified Pairs\n",
    "errors = np.where(np.array(true_labels) != np.array(pred_labels))[0]\n",
    "misclassified_pairs = list(zip(np.array(true_labels)[errors], np.array(pred_labels)[errors]))\n",
    "top_misclassified = Counter(misclassified_pairs).most_common(5)\n",
    "print(\"\\nTop Misclassified Pairs:\")\n",
    "for (true, pred), count in top_misclassified:\n",
    "    print(f\"{class_names[true]} → {class_names[pred]}: {count} cases\")\n",
    "\n",
    "# Class Distribution Plot\n",
    "plt.figure(figsize=(8, 5))\n",
    "sns.countplot(x=true_labels)\n",
    "plt.xticks(ticks=range(len(class_names)), labels=class_names)\n",
    "plt.title('Class Distribution in Validation Set')\n",
    "plt.show()"
   ]
  }
 ],
 "metadata": {
  "kernelspec": {
   "display_name": "cs240env",
   "language": "python",
   "name": "python3"
  },
  "language_info": {
   "codemirror_mode": {
    "name": "ipython",
    "version": 3
   },
   "file_extension": ".py",
   "mimetype": "text/x-python",
   "name": "python",
   "nbconvert_exporter": "python",
   "pygments_lexer": "ipython3",
   "version": "3.11.11"
  }
 },
 "nbformat": 4,
 "nbformat_minor": 5
}
