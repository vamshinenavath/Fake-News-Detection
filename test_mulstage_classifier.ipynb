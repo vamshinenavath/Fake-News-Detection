{
 "cells": [
  {
   "cell_type": "code",
   "execution_count": 14,
   "id": "e3415283",
   "metadata": {},
   "outputs": [],
   "source": [
    "import numpy as np\n",
    "import pandas as pd"
   ]
  },
  {
   "cell_type": "code",
   "execution_count": 15,
   "id": "80393a27",
   "metadata": {},
   "outputs": [
    {
     "data": {
      "text/html": [
       "<div>\n",
       "<style scoped>\n",
       "    .dataframe tbody tr th:only-of-type {\n",
       "        vertical-align: middle;\n",
       "    }\n",
       "\n",
       "    .dataframe tbody tr th {\n",
       "        vertical-align: top;\n",
       "    }\n",
       "\n",
       "    .dataframe thead th {\n",
       "        text-align: right;\n",
       "    }\n",
       "</style>\n",
       "<table border=\"1\" class=\"dataframe\">\n",
       "  <thead>\n",
       "    <tr style=\"text-align: right;\">\n",
       "      <th></th>\n",
       "      <th>type</th>\n",
       "      <th>title</th>\n",
       "      <th>content</th>\n",
       "      <th>label</th>\n",
       "    </tr>\n",
       "  </thead>\n",
       "  <tbody>\n",
       "    <tr>\n",
       "      <th>0</th>\n",
       "      <td>conspiracy</td>\n",
       "      <td>The 9/11 Commission Didn’t Believe the Governm...</td>\n",
       "      <td>9/11 Commissioners Admit They Never Got the Fu...</td>\n",
       "      <td>1</td>\n",
       "    </tr>\n",
       "    <tr>\n",
       "      <th>1</th>\n",
       "      <td>clickbait</td>\n",
       "      <td>Former Watergate Prosecutors: There’s Already ...</td>\n",
       "      <td>5545 SHARES Facebook Twitter Reddit Stumbleupo...</td>\n",
       "      <td>1</td>\n",
       "    </tr>\n",
       "    <tr>\n",
       "      <th>2</th>\n",
       "      <td>clickbait</td>\n",
       "      <td>The Washington Times Archives</td>\n",
       "      <td>When Donald Trump takes office later this week...</td>\n",
       "      <td>1</td>\n",
       "    </tr>\n",
       "    <tr>\n",
       "      <th>3</th>\n",
       "      <td>hate</td>\n",
       "      <td>Hindu Group Criticizes Toronto School’s Muslim...</td>\n",
       "      <td>A Hindu group that regularly criticizes Islam ...</td>\n",
       "      <td>1</td>\n",
       "    </tr>\n",
       "    <tr>\n",
       "      <th>4</th>\n",
       "      <td>clickbait</td>\n",
       "      <td>She created jobs?! Flying ‘press conference’ p...</td>\n",
       "      <td>Oh look, a press conference from the Hillary f...</td>\n",
       "      <td>1</td>\n",
       "    </tr>\n",
       "  </tbody>\n",
       "</table>\n",
       "</div>"
      ],
      "text/plain": [
       "         type                                              title  \\\n",
       "0  conspiracy  The 9/11 Commission Didn’t Believe the Governm...   \n",
       "1   clickbait  Former Watergate Prosecutors: There’s Already ...   \n",
       "2   clickbait                      The Washington Times Archives   \n",
       "3        hate  Hindu Group Criticizes Toronto School’s Muslim...   \n",
       "4   clickbait  She created jobs?! Flying ‘press conference’ p...   \n",
       "\n",
       "                                             content  label  \n",
       "0  9/11 Commissioners Admit They Never Got the Fu...      1  \n",
       "1  5545 SHARES Facebook Twitter Reddit Stumbleupo...      1  \n",
       "2  When Donald Trump takes office later this week...      1  \n",
       "3  A Hindu group that regularly criticizes Islam ...      1  \n",
       "4  Oh look, a press conference from the Hillary f...      1  "
      ]
     },
     "execution_count": 15,
     "metadata": {},
     "output_type": "execute_result"
    }
   ],
   "source": [
    "dataset_dir = \"datasets\"\n",
    "trainfile = 'news_traindata'\n",
    "testfile = 'news_testdata'\n",
    "nrows = 110000 * 0.9 \n",
    "vocab_file = f'vocabs/vokab_{trainfile}_{nrows}.pkl'\n",
    "model_file = f\"models/stage1_model_{trainfile}_{nrows}.pth\"\n",
    "\n",
    "\n",
    "df = pd.read_csv(f'{dataset_dir}/{testfile}.csv', encoding='utf-8', nrows=nrows)\n",
    "df = df.dropna()\n",
    "\n",
    "df.head()"
   ]
  },
  {
   "cell_type": "code",
   "execution_count": 16,
   "id": "eb225b4e",
   "metadata": {},
   "outputs": [
    {
     "name": "stdout",
     "output_type": "stream",
     "text": [
      "Vocabulary loaded from 'vocab.pkl'.\n"
     ]
    }
   ],
   "source": [
    "import os\n",
    "import pickle\n",
    "from torchtext.vocab import build_vocab_from_iterator\n",
    "from torchtext.data.utils import get_tokenizer\n",
    "from collections import Counter\n",
    "\n",
    "MAX_VOCAB = 25000\n",
    "special_tokens = ['<unk>', '<pad>']\n",
    "tokenizer = get_tokenizer('basic_english')\n",
    "\n",
    "\n",
    "if os.path.exists(vocab_file):\n",
    "    with open(vocab_file, 'rb') as f:\n",
    "        vocab = pickle.load(f)\n",
    "    print(\"Vocabulary loaded from 'vocab.pkl'.\")\n",
    "\n",
    "else:\n",
    "    print(\"Vocab not found: \", vocab_file)"
   ]
  },
  {
   "cell_type": "code",
   "execution_count": 17,
   "id": "8d80adb2",
   "metadata": {},
   "outputs": [
    {
     "name": "stdout",
     "output_type": "stream",
     "text": [
      "Filtered texts: 10610, Labels: 10610\n"
     ]
    }
   ],
   "source": [
    "\n",
    "import torch\n",
    "from torch.nn.utils.rnn import pad_sequence\n",
    "\n",
    "MAX_LENGTH = 2048\n",
    "\n",
    "encoded_texts_and_labels = []\n",
    "for text, label in zip(df['content'], df['label']):\n",
    "    if pd.notna(text):\n",
    "        # Tokenize and encode in one step with list comprehension\n",
    "        encoded = [vocab[token] for token in tokenizer(text)]\n",
    "        \n",
    "        if len(encoded) <= MAX_LENGTH:  # Filter long sequences\n",
    "            encoded_texts_and_labels.append((torch.tensor(encoded, dtype=torch.long), label))\n",
    "\n",
    "\n",
    "# Separate encoded texts and labels\n",
    "encoded_texts = [item[0] for item in encoded_texts_and_labels]\n",
    "labels = torch.tensor([item[1] for item in encoded_texts_and_labels], dtype=torch.float)\n",
    "\n",
    "# Pad sequences\n",
    "padded_texts = pad_sequence(encoded_texts, batch_first=True, padding_value=vocab['<pad>'])\n",
    "\n",
    "print(f\"Filtered texts: {len(padded_texts)}, Labels: {len(labels)}\")\n"
   ]
  },
  {
   "cell_type": "code",
   "execution_count": 18,
   "id": "b99179b8",
   "metadata": {},
   "outputs": [],
   "source": [
    "from torch.utils.data import Dataset, DataLoader\n",
    "from sklearn.model_selection import train_test_split\n",
    "\n",
    "\n",
    "class NewsDataset(Dataset):\n",
    "    def __init__(self, X, y):\n",
    "        self.X = X\n",
    "        self.y = y\n",
    "\n",
    "    def __len__(self):\n",
    "        return len(self.X)\n",
    "\n",
    "    def __getitem__(self, idx):\n",
    "        return self.X[idx], self.y[idx]\n",
    "    \n",
    "\n",
    "test_ds = NewsDataset(padded_texts, labels)\n",
    "test_dl = DataLoader(test_ds, batch_size=32, shuffle=False)"
   ]
  },
  {
   "cell_type": "code",
   "execution_count": 21,
   "id": "8e704115",
   "metadata": {},
   "outputs": [
    {
     "name": "stdout",
     "output_type": "stream",
     "text": [
      "Using device: mps\n"
     ]
    },
    {
     "data": {
      "text/plain": [
       "<All keys matched successfully>"
      ]
     },
     "execution_count": 21,
     "metadata": {},
     "output_type": "execute_result"
    }
   ],
   "source": [
    "from mulstage_model import CNN_BiLSTM\n",
    "from torch import nn\n",
    "\n",
    "\n",
    "# device = torch.device('cuda' if torch.cuda.is_available() else 'cpu')\n",
    "device = torch.device('mps' if torch.backends.mps.is_available() else 'cpu')\n",
    "print(f\"Using device: {device}\")\n",
    "\n",
    "model = CNN_BiLSTM(vocab=vocab, vocab_size=len(vocab), embed_dim=100, hidden_dim=128, output_dim=1, pad_idx=vocab['<pad>'])\n",
    "model.to(device)\n",
    "\n",
    "\n",
    "criterion = nn.BCELoss()\n",
    "optimizer = torch.optim.Adam(model.parameters(), lr=1e-3)   \n",
    "\n",
    "model.load_state_dict(torch.load(model_file, map_location=device))"
   ]
  },
  {
   "cell_type": "code",
   "execution_count": 22,
   "id": "fc893df1",
   "metadata": {},
   "outputs": [
    {
     "name": "stdout",
     "output_type": "stream",
     "text": [
      "Test accuracy: 0.9822\n"
     ]
    }
   ],
   "source": [
    "def evaluate(model, loader):\n",
    "    model.eval()\n",
    "    total_acc = 0\n",
    "    with torch.no_grad():\n",
    "        for xb, yb in loader:\n",
    "            xb, yb = xb.to(device), yb.to(device)\n",
    "            preds = model(xb)\n",
    "            preds_class = (preds > 0.5).float()\n",
    "            total_acc += (preds_class == yb).float().mean().item()\n",
    "    return total_acc / len(loader)\n",
    "\n",
    "test_acc = evaluate(model, test_dl)\n",
    "print(f\"Test accuracy: {test_acc:.4f}\")"
   ]
  }
 ],
 "metadata": {
  "kernelspec": {
   "display_name": "cs240env",
   "language": "python",
   "name": "python3"
  },
  "language_info": {
   "codemirror_mode": {
    "name": "ipython",
    "version": 3
   },
   "file_extension": ".py",
   "mimetype": "text/x-python",
   "name": "python",
   "nbconvert_exporter": "python",
   "pygments_lexer": "ipython3",
   "version": "3.11.11"
  }
 },
 "nbformat": 4,
 "nbformat_minor": 5
}
